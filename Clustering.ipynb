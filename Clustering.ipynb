{
 "cells": [
  {
   "cell_type": "code",
   "execution_count": 15,
   "metadata": {
    "collapsed": true
   },
   "outputs": [],
   "source": [
    "import csv\n",
    "import pandas as pd\n",
    "import numpy as np\n",
    "from sklearn.cluster import KMeans\n",
    "\n",
    "from scipy import cluster\n",
    "from matplotlib import pyplot"
   ]
  },
  {
   "cell_type": "code",
   "execution_count": 11,
   "metadata": {
    "collapsed": false
   },
   "outputs": [
    {
     "name": "stdout",
     "output_type": "stream",
     "text": [
      "    Driver_ID  Distance_Feature  Speeding_Feature\n",
      "0  3423311935             71.24              28.0\n",
      "1  3423313212             52.53              25.0\n",
      "2  3423313724             64.54              27.0\n"
     ]
    }
   ],
   "source": [
    "df=pd.read_csv('/Users/sergey/Documents/TUM/IDP/Clustering/K-Means/data_1024.csv',delimiter='\\t')\n",
    "print(df.head(3))"
   ]
  },
  {
   "cell_type": "code",
   "execution_count": 44,
   "metadata": {
    "collapsed": false
   },
   "outputs": [
    {
     "name": "stdout",
     "output_type": "stream",
     "text": [
      "  InvetmentName  VaR_95(%)    StdDev  Risk_of_Loss (%)      Beta    Sharpe\n",
      "0       TGTG.DE      -4.43  0.027967             31.84  0.000276  0.012383\n",
      "1       UUUG.DE      -3.32  0.019529             35.29  0.000085  0.044891\n",
      "2       VSCk.DE     -21.02  0.127806             49.41  0.001929  0.024607\n"
     ]
    }
   ],
   "source": [
    "df=pd.read_csv('/Users/sergey/Documents/TUM/IDP/Clustering/K-Means/TargetMatrix.csv',delimiter='\\t')\n",
    "print(df.head(3))"
   ]
  },
  {
   "cell_type": "code",
   "execution_count": 41,
   "metadata": {
    "collapsed": false
   },
   "outputs": [
    {
     "data": {
      "image/png": "[encoded data removed]",
      "text/plain": [
       "<matplotlib.figure.Figure at 0x1185fa6a0>"
      ]
     },
     "metadata": {},
     "output_type": "display_data"
    }
   ],
   "source": [
    "f1 = df['Distance_Feature'].values\n",
    "\n",
    "#plot variance for each value for 'k' between 1,20\n",
    "initial = [cluster.vq.kmeans(f1,i) for i in range(1,20)]\n",
    "pyplot.plot([var for (cent,var) in initial])\n",
    "pyplot.show()"
   ]
  },
  {
   "cell_type": "code",
   "execution_count": 40,
   "metadata": {
    "collapsed": false
   },
   "outputs": [
    {
     "name": "stdout",
     "output_type": "stream",
     "text": [
      "4000\n"
     ]
    }
   ],
   "source": [
    "print(f1.shape[0])"
   ]
  },
  {
   "cell_type": "code",
   "execution_count": 35,
   "metadata": {
    "collapsed": true
   },
   "outputs": [],
   "source": [
    "def get_jenks_breaks(data_list, number_class):\n",
    "    data_list.sort()\n",
    "    mat1 = []\n",
    "    for i in range(len(data_list) + 1):\n",
    "        temp = []\n",
    "        for j in range(number_class + 1):\n",
    "            temp.append(0)\n",
    "        mat1.append(temp)\n",
    "    mat2 = []\n",
    "    for i in range(len(data_list) + 1):\n",
    "        temp = []\n",
    "        for j in range(number_class + 1):\n",
    "            temp.append(0)\n",
    "        mat2.append(temp)\n",
    "    for i in range(1, number_class + 1):\n",
    "        mat1[1][i] = 1\n",
    "        mat2[1][i] = 0\n",
    "        for j in range(2, len(data_list) + 1):\n",
    "            mat2[j][i] = float('inf')\n",
    "    v = 0.0\n",
    "    for l in range(2, len(data_list) + 1):\n",
    "        s1 = 0.0\n",
    "        s2 = 0.0\n",
    "        w = 0.0\n",
    "        for m in range(1, l + 1):\n",
    "            i3 = l - m + 1\n",
    "            val = float(data_list[i3 - 1])\n",
    "            s2 += val * val\n",
    "            s1 += val\n",
    "            w += 1\n",
    "            v = s2 - (s1 * s1) / w\n",
    "            i4 = i3 - 1\n",
    "            if i4 != 0:\n",
    "                for j in range(2, number_class + 1):\n",
    "                    if mat2[l][j] >= (v + mat2[i4][j - 1]):\n",
    "                        mat1[l][j] = i3\n",
    "                        mat2[l][j] = v + mat2[i4][j - 1]\n",
    "        mat1[l][1] = 1\n",
    "        mat2[l][1] = v\n",
    "    k = len(data_list)\n",
    "    kclass = []\n",
    "    for i in range(number_class + 1):\n",
    "        kclass.append(min(data_list))\n",
    "    kclass[number_class] = float(data_list[len(data_list) - 1])\n",
    "    count_num = number_class\n",
    "    while count_num >= 2:  # print \"rank = \" + str(mat1[k][count_num])\n",
    "        idx = int((mat1[k][count_num]) - 2)\n",
    "        # print \"val = \" + str(data_list[idx])\n",
    "        kclass[count_num - 1] = data_list[idx]\n",
    "        k = int((mat1[k][count_num] - 1))\n",
    "        count_num -= 1\n",
    "    return kclass\n",
    "\n",
    "\n"
   ]
  },
  {
   "cell_type": "code",
   "execution_count": 38,
   "metadata": {
    "collapsed": false
   },
   "outputs": [
    {
     "data": {
      "image/png": "[encoded data removed]",
      "text/plain": [
       "<matplotlib.figure.Figure at 0x1189cc5f8>"
      ]
     },
     "metadata": {},
     "output_type": "display_data"
    }
   ],
   "source": [
    "x = df['Distance_Feature'].values\n",
    "breaks = get_jenks_breaks(x, 5)\n",
    "\n",
    "for line in breaks:\n",
    "    pyplot.plot([line for _ in range(len(x))], 'k--')\n",
    "\n",
    "pyplot.plot(x)\n",
    "pyplot.grid(True)\n",
    "pyplot.show()"
   ]
  },
  {
   "cell_type": "code",
   "execution_count": null,
   "metadata": {
    "collapsed": true
   },
   "outputs": [],
   "source": []
  }
 ],
 "metadata": {
  "kernelspec": {
   "display_name": "Python [default]",
   "language": "python",
   "name": "python3"
  },
  "language_info": {
   "codemirror_mode": {
    "name": "ipython",
    "version": 3
   },
   "file_extension": ".py",
   "mimetype": "text/x-python",
   "name": "python",
   "nbconvert_exporter": "python",
   "pygments_lexer": "ipython3",
   "version": "3.5.2"
  }
 },
 "nbformat": 4,
 "nbformat_minor": 1
}
