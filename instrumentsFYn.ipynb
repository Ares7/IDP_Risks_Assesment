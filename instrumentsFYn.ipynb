{
 "cells": [
  {
   "cell_type": "code",
   "execution_count": 1,
   "metadata": {
    "collapsed": false
   },
   "outputs": [],
   "source": [
    "import pandas as pd\n",
    "import numpy as np\n",
    "from scipy.stats import norm\n"
   ]
  },
  {
   "cell_type": "code",
   "execution_count": 2,
   "metadata": {
    "collapsed": true
   },
   "outputs": [],
   "source": [
    "xl = pd.ExcelFile('/Users/sergey/Documents/TUM/IDP/prepared_instruments.xlsx')\n",
    "\n"
   ]
  },
  {
   "cell_type": "code",
   "execution_count": 33,
   "metadata": {
    "collapsed": false
   },
   "outputs": [
    {
     "name": "stdout",
     "output_type": "stream",
     "text": [
      "                  Date     TGTG.DE    TGTG.DE.1     UUUG.DE    UUUG.DE.1  \\\n",
      "0            Timestamp  Trade Open  Trade Close  Trade Open  Trade Close   \n",
      "1  2016-12-01 00:00:00        0.64        0.646       0.641         0.64   \n",
      "2  2016-11-30 00:00:00        0.63         0.68       0.641        0.641   \n",
      "3  2016-11-29 00:00:00        0.68        0.696        0.65         0.66   \n",
      "4  2016-11-28 00:00:00       0.686          0.7        0.65         0.65   \n",
      "\n",
      "      VSCk.DE    VSCk.DE.1     HRPKk.F    HRPKk.F.1      LUMG.F     ...       \\\n",
      "0  Trade Open  Trade Close  Trade Open  Trade Close  Trade Open     ...        \n",
      "1       2.532        2.532       2.276        2.276       0.016     ...        \n",
      "2       2.496        2.451       2.254        2.281       0.016     ...        \n",
      "3       2.416        2.416       2.266        2.357       0.016     ...        \n",
      "4        2.52          2.5        2.36        2.324       0.016     ...        \n",
      "\n",
      "        YB1.F      YB1.F.1     RTVGn.F    RTVGn.F.1     ZALG.DE    ZALG.DE.1  \\\n",
      "0  Trade Open  Trade Close  Trade Open  Trade Close  Trade Open  Trade Close   \n",
      "1        0.02         0.02        1.22         1.22       34.99       34.275   \n",
      "2        0.02         0.02        1.22         1.22      35.855       35.165   \n",
      "3        0.02         0.02        1.22         1.22       35.14       35.845   \n",
      "4        0.02         0.02       1.221        1.221       36.05        35.22   \n",
      "\n",
      "      ZEFG.DE    ZEFG.DE.1     ZO1G.DE    ZO1G.DE.1  \n",
      "0  Trade Open  Trade Close  Trade Open  Trade Close  \n",
      "1         1.6          1.6         121        119.1  \n",
      "2           0            0       123.2          121  \n",
      "3       1.554        1.575         123        123.1  \n",
      "4           0            0       122.5          123  \n",
      "\n",
      "[5 rows x 853 columns]\n"
     ]
    }
   ],
   "source": [
    "##df = xl.parse(\"FY0\")\n",
    "#dfTime = xl.parse(\"TS\")\n",
    "dfTime = xl.parse(\"TS\", skiprows = 0, skip_footer =False)\n",
    "dfTime.replace(np.NaN,0 , inplace =True)\n",
    "df = dfTime\n",
    "\n",
    "print(dfTime.head())"
   ]
  },
  {
   "cell_type": "code",
   "execution_count": 4,
   "metadata": {
    "collapsed": false
   },
   "outputs": [],
   "source": [
    "df = df.drop(df.index[[0]])#dropping 2nd row that contains \"open\", \"close\"\n",
    "df.drop('Date', axis=1, inplace=True)\n"
   ]
  },
  {
   "cell_type": "code",
   "execution_count": 5,
   "metadata": {
    "collapsed": false
   },
   "outputs": [],
   "source": [
    "df_mean = df\n",
    "df_mean= df_mean.astype(float)"
   ]
  },
  {
   "cell_type": "code",
   "execution_count": 6,
   "metadata": {
    "collapsed": false
   },
   "outputs": [],
   "source": [
    "\n",
    "df_mean = df_mean.groupby((np.arange(len(df_mean.columns)) // 2) + 1, axis=1).mean().add_prefix('s')\n",
    "\n"
   ]
  },
  {
   "cell_type": "code",
   "execution_count": 7,
   "metadata": {
    "collapsed": false
   },
   "outputs": [],
   "source": [
    "#print(df.columns[2])\n",
    "collist = list(df.columns.values)\n",
    "collist = collist[::2]\n",
    "df_mean.columns = [collist]"
   ]
  },
  {
   "cell_type": "code",
   "execution_count": 269,
   "metadata": {
    "collapsed": true
   },
   "outputs": [],
   "source": [
    "#print(xl.sheet_names)\n",
    "#print(dfTime.head())"
   ]
  },
  {
   "cell_type": "code",
   "execution_count": 270,
   "metadata": {
    "collapsed": false
   },
   "outputs": [
    {
     "data": {
      "text/plain": [
       "'for i in range(0,5,2):\\n\\n        dfAvg =df.ix[1:2,i:(i+2)].T.sum()\\n        df_sum=pd.DataFrame(dfAvg)\\n\\n        df_sum.columns = [df.columns[i]]\\n        print (df_sum)\\n        dat1 = dat1.join(df_sum )\\n\\n        del dfAvg\\n'"
      ]
     },
     "execution_count": 270,
     "metadata": {},
     "output_type": "execute_result"
    }
   ],
   "source": [
    "'''for i in range(0,5,2):\n",
    "\n",
    "        dfAvg =df.ix[1:2,i:(i+2)].T.sum()\n",
    "        df_sum=pd.DataFrame(dfAvg)\n",
    "\n",
    "        df_sum.columns = [df.columns[i]]\n",
    "        print (df_sum)\n",
    "        dat1 = dat1.join(df_sum )\n",
    "\n",
    "        del dfAvg\n",
    "'''"
   ]
  },
  {
   "cell_type": "code",
   "execution_count": 271,
   "metadata": {
    "collapsed": false
   },
   "outputs": [],
   "source": [
    "#df_mean.ix[0:,:].std()\n",
    "#k =df_mean.ix[0:,:].std()\n",
    "#print( k[66] )"
   ]
  },
  {
   "cell_type": "code",
   "execution_count": 8,
   "metadata": {
    "collapsed": false
   },
   "outputs": [
    {
     "name": "stdout",
     "output_type": "stream",
     "text": [
      "426\n",
      "426\n"
     ]
    }
   ],
   "source": [
    "print(len(df_mean.corr()))\n",
    "print(len(df_mean.corr().columns))"
   ]
  },
  {
   "cell_type": "code",
   "execution_count": 9,
   "metadata": {
    "collapsed": false
   },
   "outputs": [],
   "source": [
    "lCorr = df_mean.corr().ix[0:,:1]\n",
    "#print(lCorr)"
   ]
  },
  {
   "cell_type": "code",
   "execution_count": 76,
   "metadata": {
    "collapsed": false
   },
   "outputs": [
    {
     "name": "stdout",
     "output_type": "stream",
     "text": [
      "20.1279691394\n",
      "405.135141675\n",
      "Portfolio Standart Deviation is: 28.8166315257\n"
     ]
    }
   ],
   "source": [
    "def absPortf_stddev(listofInv):\n",
    " \n",
    "    #A_rank=[2,4,4,4,5,5,7,9]\n",
    "    #arr = np.array([A_rank])\n",
    "    #print(np.mean(arr))\n",
    "    #print(np.std(arr))\n",
    "    ##print(np.std(arr, axis=0))\n",
    "    #print(np.correlate([0.686,0.702], [0.646,0.68]))\n",
    "    #print(len(collist))\n",
    "    weight = 1/len(collist)\n",
    "    lStdDev = df_mean.ix[0:,:].std()\n",
    "    lCorr = df_mean.corr().ix[0:,:1]\n",
    "    ## can now access: lStdDev[66]\n",
    "    \n",
    "    #PART 1:\n",
    "    sum1 = 0\n",
    "    for i in range(1, len(collist), 1):\n",
    "        sum1 = sum1 + weight * lStdDev[i]\n",
    "    #print(sum1)\n",
    "    \n",
    "    #PART 2:\n",
    "    sum2 = 0\n",
    "    for i in range(1, len(collist), 1):\n",
    "        #print(\"Current i= \" + str(i))\n",
    "        for j in range(1, len(collist), 1):\n",
    "            #print(\"Current j= \" + str(j))\n",
    "            sum2 = sum2 + weight * weight * lStdDev[i] * lStdDev[j]\n",
    "    #print(sum2)\n",
    "    \n",
    "    Portf_stddev = (sum1+2*sum2) ** (0.5)\n",
    "    print(\"Portfolio Standart Deviation is: \" + str(Portf_stddev))\n",
    "   \n",
    "    \n",
    "    ##print(dfTime.head())\n",
    "    #avgVal = (dfTime.ix[1:3,1:2] + dfTime.ix[1:3,2:3])/2\n",
    "    #print(lStdDev)\n",
    "    \n",
    "absPortf_stddev(None)"
   ]
  },
  {
   "cell_type": "code",
   "execution_count": 77,
   "metadata": {
    "collapsed": false,
    "scrolled": false
   },
   "outputs": [],
   "source": [
    "#dfTime"
   ]
  },
  {
   "cell_type": "code",
   "execution_count": 37,
   "metadata": {
    "collapsed": false
   },
   "outputs": [],
   "source": [
    "#print(dfTime.ix[1:,0:])\n"
   ]
  },
  {
   "cell_type": "code",
   "execution_count": 103,
   "metadata": {
    "collapsed": false
   },
   "outputs": [
    {
     "data": {
      "text/html": [
       "<div>\n",
       "<table border=\"1\" class=\"dataframe\">\n",
       "  <thead>\n",
       "    <tr style=\"text-align: right;\">\n",
       "      <th></th>\n",
       "      <th>Date</th>\n",
       "      <th>TGTG.DE</th>\n",
       "      <th>TGTG.DE.1</th>\n",
       "      <th>UUUG.DE</th>\n",
       "      <th>UUUG.DE.1</th>\n",
       "      <th>VSCk.DE</th>\n",
       "      <th>VSCk.DE.1</th>\n",
       "      <th>HRPKk.F</th>\n",
       "      <th>HRPKk.F.1</th>\n",
       "      <th>LUMG.F</th>\n",
       "      <th>...</th>\n",
       "      <th>YB1.F</th>\n",
       "      <th>YB1.F.1</th>\n",
       "      <th>RTVGn.F</th>\n",
       "      <th>RTVGn.F.1</th>\n",
       "      <th>ZALG.DE</th>\n",
       "      <th>ZALG.DE.1</th>\n",
       "      <th>ZEFG.DE</th>\n",
       "      <th>ZEFG.DE.1</th>\n",
       "      <th>ZO1G.DE</th>\n",
       "      <th>ZO1G.DE.1</th>\n",
       "    </tr>\n",
       "  </thead>\n",
       "  <tbody>\n",
       "    <tr>\n",
       "      <th>1</th>\n",
       "      <td>2016-12-01</td>\n",
       "      <td>0.64</td>\n",
       "      <td>0.646</td>\n",
       "      <td>0.641</td>\n",
       "      <td>0.64</td>\n",
       "      <td>2.532</td>\n",
       "      <td>2.532</td>\n",
       "      <td>2.276</td>\n",
       "      <td>2.276</td>\n",
       "      <td>0.016</td>\n",
       "      <td>...</td>\n",
       "      <td>0.02</td>\n",
       "      <td>0.02</td>\n",
       "      <td>1.22</td>\n",
       "      <td>1.22</td>\n",
       "      <td>34.99</td>\n",
       "      <td>34.275</td>\n",
       "      <td>1.6</td>\n",
       "      <td>1.6</td>\n",
       "      <td>121</td>\n",
       "      <td>119.1</td>\n",
       "    </tr>\n",
       "    <tr>\n",
       "      <th>2</th>\n",
       "      <td>2016-11-30</td>\n",
       "      <td>0.63</td>\n",
       "      <td>0.68</td>\n",
       "      <td>0.641</td>\n",
       "      <td>0.641</td>\n",
       "      <td>2.496</td>\n",
       "      <td>2.451</td>\n",
       "      <td>2.254</td>\n",
       "      <td>2.281</td>\n",
       "      <td>0.016</td>\n",
       "      <td>...</td>\n",
       "      <td>0.02</td>\n",
       "      <td>0.02</td>\n",
       "      <td>1.22</td>\n",
       "      <td>1.22</td>\n",
       "      <td>35.855</td>\n",
       "      <td>35.165</td>\n",
       "      <td>0</td>\n",
       "      <td>0</td>\n",
       "      <td>123.2</td>\n",
       "      <td>121</td>\n",
       "    </tr>\n",
       "    <tr>\n",
       "      <th>3</th>\n",
       "      <td>2016-11-29</td>\n",
       "      <td>0.68</td>\n",
       "      <td>0.696</td>\n",
       "      <td>0.65</td>\n",
       "      <td>0.66</td>\n",
       "      <td>2.416</td>\n",
       "      <td>2.416</td>\n",
       "      <td>2.266</td>\n",
       "      <td>2.357</td>\n",
       "      <td>0.016</td>\n",
       "      <td>...</td>\n",
       "      <td>0.02</td>\n",
       "      <td>0.02</td>\n",
       "      <td>1.22</td>\n",
       "      <td>1.22</td>\n",
       "      <td>35.14</td>\n",
       "      <td>35.845</td>\n",
       "      <td>1.554</td>\n",
       "      <td>1.575</td>\n",
       "      <td>123</td>\n",
       "      <td>123.1</td>\n",
       "    </tr>\n",
       "    <tr>\n",
       "      <th>4</th>\n",
       "      <td>2016-11-28</td>\n",
       "      <td>0.686</td>\n",
       "      <td>0.7</td>\n",
       "      <td>0.65</td>\n",
       "      <td>0.65</td>\n",
       "      <td>2.52</td>\n",
       "      <td>2.5</td>\n",
       "      <td>2.36</td>\n",
       "      <td>2.324</td>\n",
       "      <td>0.016</td>\n",
       "      <td>...</td>\n",
       "      <td>0.02</td>\n",
       "      <td>0.02</td>\n",
       "      <td>1.221</td>\n",
       "      <td>1.221</td>\n",
       "      <td>36.05</td>\n",
       "      <td>35.22</td>\n",
       "      <td>0</td>\n",
       "      <td>0</td>\n",
       "      <td>122.5</td>\n",
       "      <td>123</td>\n",
       "    </tr>\n",
       "    <tr>\n",
       "      <th>5</th>\n",
       "      <td>2016-11-25</td>\n",
       "      <td>0.702</td>\n",
       "      <td>0.7</td>\n",
       "      <td>0</td>\n",
       "      <td>0</td>\n",
       "      <td>2.4</td>\n",
       "      <td>2.567</td>\n",
       "      <td>2.317</td>\n",
       "      <td>2.35</td>\n",
       "      <td>0.016</td>\n",
       "      <td>...</td>\n",
       "      <td>0.02</td>\n",
       "      <td>0.02</td>\n",
       "      <td>1.22</td>\n",
       "      <td>1.22</td>\n",
       "      <td>35.315</td>\n",
       "      <td>36.115</td>\n",
       "      <td>0</td>\n",
       "      <td>0</td>\n",
       "      <td>121</td>\n",
       "      <td>122.4</td>\n",
       "    </tr>\n",
       "    <tr>\n",
       "      <th>6</th>\n",
       "      <td>2016-11-24</td>\n",
       "      <td>0</td>\n",
       "      <td>0</td>\n",
       "      <td>0.661</td>\n",
       "      <td>0.656</td>\n",
       "      <td>2.412</td>\n",
       "      <td>2.401</td>\n",
       "      <td>2.288</td>\n",
       "      <td>2.373</td>\n",
       "      <td>0.016</td>\n",
       "      <td>...</td>\n",
       "      <td>0.02</td>\n",
       "      <td>0.02</td>\n",
       "      <td>1.22</td>\n",
       "      <td>1.22</td>\n",
       "      <td>35.62</td>\n",
       "      <td>35.345</td>\n",
       "      <td>0</td>\n",
       "      <td>0</td>\n",
       "      <td>120.5</td>\n",
       "      <td>121</td>\n",
       "    </tr>\n",
       "    <tr>\n",
       "      <th>7</th>\n",
       "      <td>2016-11-23</td>\n",
       "      <td>0.718</td>\n",
       "      <td>0.718</td>\n",
       "      <td>0.664</td>\n",
       "      <td>0.664</td>\n",
       "      <td>2.499</td>\n",
       "      <td>2.499</td>\n",
       "      <td>2.36</td>\n",
       "      <td>2.35</td>\n",
       "      <td>0.016</td>\n",
       "      <td>...</td>\n",
       "      <td>0.02</td>\n",
       "      <td>0.02</td>\n",
       "      <td>1.248</td>\n",
       "      <td>1.248</td>\n",
       "      <td>36.025</td>\n",
       "      <td>35.61</td>\n",
       "      <td>0</td>\n",
       "      <td>0</td>\n",
       "      <td>120</td>\n",
       "      <td>120.45</td>\n",
       "    </tr>\n",
       "    <tr>\n",
       "      <th>8</th>\n",
       "      <td>2016-11-22</td>\n",
       "      <td>0.796</td>\n",
       "      <td>0.728</td>\n",
       "      <td>0.65</td>\n",
       "      <td>0.647</td>\n",
       "      <td>0</td>\n",
       "      <td>0</td>\n",
       "      <td>2.26</td>\n",
       "      <td>2.335</td>\n",
       "      <td>0.016</td>\n",
       "      <td>...</td>\n",
       "      <td>0.02</td>\n",
       "      <td>0.02</td>\n",
       "      <td>1.275</td>\n",
       "      <td>1.275</td>\n",
       "      <td>35.97</td>\n",
       "      <td>35.895</td>\n",
       "      <td>1.46</td>\n",
       "      <td>1.46</td>\n",
       "      <td>119.1</td>\n",
       "      <td>119.85</td>\n",
       "    </tr>\n",
       "  </tbody>\n",
       "</table>\n",
       "<p>8 rows × 853 columns</p>\n",
       "</div>"
      ],
      "text/plain": [
       "        Date TGTG.DE TGTG.DE.1 UUUG.DE UUUG.DE.1 VSCk.DE VSCk.DE.1 HRPKk.F  \\\n",
       "1 2016-12-01    0.64     0.646   0.641      0.64   2.532     2.532   2.276   \n",
       "2 2016-11-30    0.63      0.68   0.641     0.641   2.496     2.451   2.254   \n",
       "3 2016-11-29    0.68     0.696    0.65      0.66   2.416     2.416   2.266   \n",
       "4 2016-11-28   0.686       0.7    0.65      0.65    2.52       2.5    2.36   \n",
       "5 2016-11-25   0.702       0.7       0         0     2.4     2.567   2.317   \n",
       "6 2016-11-24       0         0   0.661     0.656   2.412     2.401   2.288   \n",
       "7 2016-11-23   0.718     0.718   0.664     0.664   2.499     2.499    2.36   \n",
       "8 2016-11-22   0.796     0.728    0.65     0.647       0         0    2.26   \n",
       "\n",
       "  HRPKk.F.1 LUMG.F    ...    YB1.F YB1.F.1 RTVGn.F RTVGn.F.1 ZALG.DE  \\\n",
       "1     2.276  0.016    ...     0.02    0.02    1.22      1.22   34.99   \n",
       "2     2.281  0.016    ...     0.02    0.02    1.22      1.22  35.855   \n",
       "3     2.357  0.016    ...     0.02    0.02    1.22      1.22   35.14   \n",
       "4     2.324  0.016    ...     0.02    0.02   1.221     1.221   36.05   \n",
       "5      2.35  0.016    ...     0.02    0.02    1.22      1.22  35.315   \n",
       "6     2.373  0.016    ...     0.02    0.02    1.22      1.22   35.62   \n",
       "7      2.35  0.016    ...     0.02    0.02   1.248     1.248  36.025   \n",
       "8     2.335  0.016    ...     0.02    0.02   1.275     1.275   35.97   \n",
       "\n",
       "  ZALG.DE.1 ZEFG.DE ZEFG.DE.1 ZO1G.DE ZO1G.DE.1  \n",
       "1    34.275     1.6       1.6     121     119.1  \n",
       "2    35.165       0         0   123.2       121  \n",
       "3    35.845   1.554     1.575     123     123.1  \n",
       "4     35.22       0         0   122.5       123  \n",
       "5    36.115       0         0     121     122.4  \n",
       "6    35.345       0         0   120.5       121  \n",
       "7     35.61       0         0     120    120.45  \n",
       "8    35.895    1.46      1.46   119.1    119.85  \n",
       "\n",
       "[8 rows x 853 columns]"
      ]
     },
     "execution_count": 103,
     "metadata": {},
     "output_type": "execute_result"
    }
   ],
   "source": [
    "#dfh = dfh[(dfTime.Date >= startDate)]\n",
    "\n",
    "#dfh = dfh[(dfTime.Date >= startDate) & (dfTime.Date<= endDate)]\n",
    "#df[(df.A == 1) & (df.D == 6)]\n",
    "#print(dfh)"
   ]
  },
  {
   "cell_type": "code",
   "execution_count": 163,
   "metadata": {
    "collapsed": false
   },
   "outputs": [
    {
     "name": "stdout",
     "output_type": "stream",
     "text": [
      "Index(['Date', 'TGTG.DE', 'TGTG.DE.1', 'UUUG.DE', 'UUUG.DE.1', 'VSCk.DE',\n",
      "       'VSCk.DE.1', 'HRPKk.F', 'HRPKk.F.1', 'LUMG.F',\n",
      "       ...\n",
      "       'YB1.F.1', 'RTVGn.F', 'RTVGn.F.1', 'ZALG.DE', 'ZALG.DE.1', 'ZEFG.DE',\n",
      "       'ZEFG.DE.1', 'ZO1G.DE', 'ZO1G.DE.1', 'diff'],\n",
      "      dtype='object', length=854)\n"
     ]
    }
   ],
   "source": [
    "print (dfTime.columns)"
   ]
  },
  {
   "cell_type": "code",
   "execution_count": 34,
   "metadata": {
    "collapsed": false
   },
   "outputs": [
    {
     "data": {
      "text/html": [
       "<div>\n",
       "<table border=\"1\" class=\"dataframe\">\n",
       "  <thead>\n",
       "    <tr style=\"text-align: right;\">\n",
       "      <th></th>\n",
       "      <th>Date</th>\n",
       "      <th>TGTG.DE</th>\n",
       "      <th>TGTG.DE.1</th>\n",
       "      <th>UUUG.DE</th>\n",
       "      <th>UUUG.DE.1</th>\n",
       "      <th>VSCk.DE</th>\n",
       "      <th>VSCk.DE.1</th>\n",
       "      <th>HRPKk.F</th>\n",
       "      <th>HRPKk.F.1</th>\n",
       "      <th>LUMG.F</th>\n",
       "      <th>...</th>\n",
       "      <th>YB1.F</th>\n",
       "      <th>YB1.F.1</th>\n",
       "      <th>RTVGn.F</th>\n",
       "      <th>RTVGn.F.1</th>\n",
       "      <th>ZALG.DE</th>\n",
       "      <th>ZALG.DE.1</th>\n",
       "      <th>ZEFG.DE</th>\n",
       "      <th>ZEFG.DE.1</th>\n",
       "      <th>ZO1G.DE</th>\n",
       "      <th>ZO1G.DE.1</th>\n",
       "    </tr>\n",
       "  </thead>\n",
       "  <tbody>\n",
       "    <tr>\n",
       "      <th>0</th>\n",
       "      <td>Timestamp</td>\n",
       "      <td>Trade Open</td>\n",
       "      <td>Trade Close</td>\n",
       "      <td>Trade Open</td>\n",
       "      <td>Trade Close</td>\n",
       "      <td>Trade Open</td>\n",
       "      <td>Trade Close</td>\n",
       "      <td>Trade Open</td>\n",
       "      <td>Trade Close</td>\n",
       "      <td>Trade Open</td>\n",
       "      <td>...</td>\n",
       "      <td>Trade Open</td>\n",
       "      <td>Trade Close</td>\n",
       "      <td>Trade Open</td>\n",
       "      <td>Trade Close</td>\n",
       "      <td>Trade Open</td>\n",
       "      <td>Trade Close</td>\n",
       "      <td>Trade Open</td>\n",
       "      <td>Trade Close</td>\n",
       "      <td>Trade Open</td>\n",
       "      <td>Trade Close</td>\n",
       "    </tr>\n",
       "    <tr>\n",
       "      <th>1</th>\n",
       "      <td>2016-12-01 00:00:00</td>\n",
       "      <td>0.64</td>\n",
       "      <td>0.646</td>\n",
       "      <td>0.641</td>\n",
       "      <td>0.64</td>\n",
       "      <td>2.532</td>\n",
       "      <td>2.532</td>\n",
       "      <td>2.276</td>\n",
       "      <td>2.276</td>\n",
       "      <td>0.016</td>\n",
       "      <td>...</td>\n",
       "      <td>0.02</td>\n",
       "      <td>0.02</td>\n",
       "      <td>1.22</td>\n",
       "      <td>1.22</td>\n",
       "      <td>34.99</td>\n",
       "      <td>34.275</td>\n",
       "      <td>1.6</td>\n",
       "      <td>1.6</td>\n",
       "      <td>121</td>\n",
       "      <td>119.1</td>\n",
       "    </tr>\n",
       "    <tr>\n",
       "      <th>2</th>\n",
       "      <td>2016-11-30 00:00:00</td>\n",
       "      <td>0.63</td>\n",
       "      <td>0.68</td>\n",
       "      <td>0.641</td>\n",
       "      <td>0.641</td>\n",
       "      <td>2.496</td>\n",
       "      <td>2.451</td>\n",
       "      <td>2.254</td>\n",
       "      <td>2.281</td>\n",
       "      <td>0.016</td>\n",
       "      <td>...</td>\n",
       "      <td>0.02</td>\n",
       "      <td>0.02</td>\n",
       "      <td>1.22</td>\n",
       "      <td>1.22</td>\n",
       "      <td>35.855</td>\n",
       "      <td>35.165</td>\n",
       "      <td>0</td>\n",
       "      <td>0</td>\n",
       "      <td>123.2</td>\n",
       "      <td>121</td>\n",
       "    </tr>\n",
       "    <tr>\n",
       "      <th>3</th>\n",
       "      <td>2016-11-29 00:00:00</td>\n",
       "      <td>0.68</td>\n",
       "      <td>0.696</td>\n",
       "      <td>0.65</td>\n",
       "      <td>0.66</td>\n",
       "      <td>2.416</td>\n",
       "      <td>2.416</td>\n",
       "      <td>2.266</td>\n",
       "      <td>2.357</td>\n",
       "      <td>0.016</td>\n",
       "      <td>...</td>\n",
       "      <td>0.02</td>\n",
       "      <td>0.02</td>\n",
       "      <td>1.22</td>\n",
       "      <td>1.22</td>\n",
       "      <td>35.14</td>\n",
       "      <td>35.845</td>\n",
       "      <td>1.554</td>\n",
       "      <td>1.575</td>\n",
       "      <td>123</td>\n",
       "      <td>123.1</td>\n",
       "    </tr>\n",
       "    <tr>\n",
       "      <th>4</th>\n",
       "      <td>2016-11-28 00:00:00</td>\n",
       "      <td>0.686</td>\n",
       "      <td>0.7</td>\n",
       "      <td>0.65</td>\n",
       "      <td>0.65</td>\n",
       "      <td>2.52</td>\n",
       "      <td>2.5</td>\n",
       "      <td>2.36</td>\n",
       "      <td>2.324</td>\n",
       "      <td>0.016</td>\n",
       "      <td>...</td>\n",
       "      <td>0.02</td>\n",
       "      <td>0.02</td>\n",
       "      <td>1.221</td>\n",
       "      <td>1.221</td>\n",
       "      <td>36.05</td>\n",
       "      <td>35.22</td>\n",
       "      <td>0</td>\n",
       "      <td>0</td>\n",
       "      <td>122.5</td>\n",
       "      <td>123</td>\n",
       "    </tr>\n",
       "  </tbody>\n",
       "</table>\n",
       "<p>5 rows × 853 columns</p>\n",
       "</div>"
      ],
      "text/plain": [
       "                  Date     TGTG.DE    TGTG.DE.1     UUUG.DE    UUUG.DE.1  \\\n",
       "0            Timestamp  Trade Open  Trade Close  Trade Open  Trade Close   \n",
       "1  2016-12-01 00:00:00        0.64        0.646       0.641         0.64   \n",
       "2  2016-11-30 00:00:00        0.63         0.68       0.641        0.641   \n",
       "3  2016-11-29 00:00:00        0.68        0.696        0.65         0.66   \n",
       "4  2016-11-28 00:00:00       0.686          0.7        0.65         0.65   \n",
       "\n",
       "      VSCk.DE    VSCk.DE.1     HRPKk.F    HRPKk.F.1      LUMG.F     ...       \\\n",
       "0  Trade Open  Trade Close  Trade Open  Trade Close  Trade Open     ...        \n",
       "1       2.532        2.532       2.276        2.276       0.016     ...        \n",
       "2       2.496        2.451       2.254        2.281       0.016     ...        \n",
       "3       2.416        2.416       2.266        2.357       0.016     ...        \n",
       "4        2.52          2.5        2.36        2.324       0.016     ...        \n",
       "\n",
       "        YB1.F      YB1.F.1     RTVGn.F    RTVGn.F.1     ZALG.DE    ZALG.DE.1  \\\n",
       "0  Trade Open  Trade Close  Trade Open  Trade Close  Trade Open  Trade Close   \n",
       "1        0.02         0.02        1.22         1.22       34.99       34.275   \n",
       "2        0.02         0.02        1.22         1.22      35.855       35.165   \n",
       "3        0.02         0.02        1.22         1.22       35.14       35.845   \n",
       "4        0.02         0.02       1.221        1.221       36.05        35.22   \n",
       "\n",
       "      ZEFG.DE    ZEFG.DE.1     ZO1G.DE    ZO1G.DE.1  \n",
       "0  Trade Open  Trade Close  Trade Open  Trade Close  \n",
       "1         1.6          1.6         121        119.1  \n",
       "2           0            0       123.2          121  \n",
       "3       1.554        1.575         123        123.1  \n",
       "4           0            0       122.5          123  \n",
       "\n",
       "[5 rows x 853 columns]"
      ]
     },
     "execution_count": 34,
     "metadata": {},
     "output_type": "execute_result"
    }
   ],
   "source": [
    "dfTime.head()"
   ]
  },
  {
   "cell_type": "raw",
   "metadata": {},
   "source": [
    "print (collistPrime[::2])"
   ]
  },
  {
   "cell_type": "code",
   "execution_count": 309,
   "metadata": {
    "collapsed": false
   },
   "outputs": [
    {
     "data": {
      "text/plain": [
       "'TGTG.DE.1'"
      ]
     },
     "execution_count": 309,
     "metadata": {},
     "output_type": "execute_result"
    }
   ],
   "source": [
    "tdf.columns[2]"
   ]
  },
  {
   "cell_type": "code",
   "execution_count": 312,
   "metadata": {
    "collapsed": false
   },
   "outputs": [],
   "source": [
    "##print((tdf[tdf.columns[2]].astype(float)) - (tdf[tdf.columns[1]].astype(float)))"
   ]
  },
  {
   "cell_type": "code",
   "execution_count": 357,
   "metadata": {
    "collapsed": false
   },
   "outputs": [
    {
     "name": "stdout",
     "output_type": "stream",
     "text": [
      "                     Date TGTG.DE TGTG.DE.1 UUUG.DE UUUG.DE.1  VSCk.DE  \\\n",
      "1     2016-12-01 00:00:00    0.64     0.646   0.641      0.64    2.532   \n",
      "2     2016-11-30 00:00:00    0.63      0.68   0.641     0.641    2.496   \n",
      "3     2016-11-29 00:00:00    0.68     0.696    0.65      0.66    2.416   \n",
      "4     2016-11-28 00:00:00   0.686       0.7    0.65      0.65     2.52   \n",
      "5     2016-11-25 00:00:00   0.702       0.7       0         0      2.4   \n",
      "6     2016-11-24 00:00:00       0         0   0.661     0.656    2.412   \n",
      "7     2016-11-23 00:00:00   0.718     0.718   0.664     0.664    2.499   \n",
      "8     2016-11-22 00:00:00   0.796     0.728    0.65     0.647        0   \n",
      "9     2016-11-21 00:00:00     0.8     0.752   0.646     0.645        0   \n",
      "10    2016-11-18 00:00:00    0.81     0.772    0.68     0.645    2.532   \n",
      "11    2016-11-17 00:00:00    0.78     0.785    0.68     0.655    2.475   \n",
      "12    2016-11-16 00:00:00    0.78     0.781   0.679     0.679     2.44   \n",
      "13    2016-11-15 00:00:00     0.8     0.789   0.681     0.679    2.441   \n",
      "14    2016-11-14 00:00:00   0.796     0.796   0.663     0.663    2.544   \n",
      "15    2016-11-11 00:00:00     0.8     0.785   0.664      0.64    2.487   \n",
      "16    2016-11-10 00:00:00   0.801     0.814    0.64      0.64    2.429   \n",
      "17    2016-11-09 00:00:00    0.81      0.81   0.638     0.631    2.286   \n",
      "18    2016-11-08 00:00:00   0.813     0.813   0.638      0.64     2.37   \n",
      "19    2016-11-07 00:00:00   0.819     0.819   0.664     0.659      2.4   \n",
      "20    2016-11-04 00:00:00   0.812     0.812    0.65     0.645    2.405   \n",
      "21    2016-11-03 00:00:00    0.84     0.816   0.655     0.651     2.42   \n",
      "22    2016-11-02 00:00:00   0.832     0.832    0.65      0.65     2.55   \n",
      "23    2016-11-01 00:00:00       0         0   0.668     0.659    2.639   \n",
      "24    2016-10-31 00:00:00    0.85      0.85   0.649      0.67    2.569   \n",
      "25    2016-10-28 00:00:00       0         0   0.645     0.645    2.512   \n",
      "26    2016-10-27 00:00:00       0         0   0.634     0.645    2.511   \n",
      "27    2016-10-26 00:00:00   0.835      0.85    0.64     0.637    2.511   \n",
      "28    2016-10-25 00:00:00       0         0    0.64     0.648     2.48   \n",
      "29    2016-10-24 00:00:00   0.868      0.87    0.65     0.631        0   \n",
      "30    2016-10-21 00:00:00   0.832     0.832    0.64      0.64    2.515   \n",
      "...                   ...     ...       ...     ...       ...      ...   \n",
      "2749  2006-02-10 00:00:00   21.15     21.14    0.86      0.85  19.5039   \n",
      "2750  2006-02-09 00:00:00   20.06     21.17    0.87      0.86  19.9639   \n",
      "2751  2006-02-08 00:00:00   20.49     20.35    0.87      0.87  20.0099   \n",
      "2752  2006-02-07 00:00:00   19.55      20.5    0.87      0.87  19.9179   \n",
      "2753  2006-02-06 00:00:00   20.32        20    0.89      0.87  19.9179   \n",
      "2754  2006-02-03 00:00:00    20.5     20.47    0.88      0.89  19.9179   \n",
      "2755  2006-02-02 00:00:00    20.7     20.54    0.89      0.89  19.9179   \n",
      "2756  2006-02-01 00:00:00   20.44     20.48    0.89      0.87  19.6419   \n",
      "2757  2006-01-31 00:00:00   20.39     20.47     0.9      0.86  19.5499   \n",
      "2758  2006-01-30 00:00:00   20.44     20.69    0.83       0.9  19.7799   \n",
      "2759  2006-01-27 00:00:00    20.2      20.4    0.88      0.86  19.5499   \n",
      "2760  2006-01-26 00:00:00      20        20    0.81      0.88  19.5499   \n",
      "2761  2006-01-25 00:00:00    19.5     19.95    0.81      0.82  19.9639   \n",
      "2762  2006-01-24 00:00:00    19.3     19.36    0.83      0.82  19.5499   \n",
      "2763  2006-01-23 00:00:00   19.24     19.24    0.84      0.82  20.0099   \n",
      "2764  2006-01-20 00:00:00   19.15     19.27    0.82      0.83  19.9179   \n",
      "2765  2006-01-19 00:00:00   19.35      19.2    0.83      0.83  19.5499   \n",
      "2766  2006-01-18 00:00:00   19.26     19.24    0.85      0.83  20.0099   \n",
      "2767  2006-01-17 00:00:00   19.57     19.25    0.86      0.86  20.4699   \n",
      "2768  2006-01-16 00:00:00   19.78      19.6    0.87      0.86  20.3779   \n",
      "2769  2006-01-13 00:00:00   19.41     19.76    0.88      0.87  19.9179   \n",
      "2770  2006-01-12 00:00:00      19      19.5    0.86      0.87  19.7339   \n",
      "2771  2006-01-11 00:00:00   18.65        19    0.87      0.88  19.7799   \n",
      "2772  2006-01-10 00:00:00    18.8     18.74    0.87      0.88  19.7339   \n",
      "2773  2006-01-09 00:00:00    18.1     18.68    0.91      0.88  20.2399   \n",
      "2774  2006-01-06 00:00:00   17.87     18.05    0.85       0.9  19.9179   \n",
      "2775  2006-01-05 00:00:00   17.64     17.87    0.85      0.86  19.9179   \n",
      "2776  2006-01-04 00:00:00   17.34     17.65    0.84      0.86  19.7799   \n",
      "2777  2006-01-03 00:00:00   17.22     17.34    0.87      0.85  19.9639   \n",
      "2778  2006-01-02 00:00:00   17.01     17.44    0.83      0.86  20.2399   \n",
      "\n",
      "     VSCk.DE.1 HRPKk.F HRPKk.F.1 LUMG.F    ...     YB1.F YB1.F.1  RTVGn.F  \\\n",
      "1        2.532   2.276     2.276  0.016    ...      0.02    0.02     1.22   \n",
      "2        2.451   2.254     2.281  0.016    ...      0.02    0.02     1.22   \n",
      "3        2.416   2.266     2.357  0.016    ...      0.02    0.02     1.22   \n",
      "4          2.5    2.36     2.324  0.016    ...      0.02    0.02    1.221   \n",
      "5        2.567   2.317      2.35  0.016    ...      0.02    0.02     1.22   \n",
      "6        2.401   2.288     2.373  0.016    ...      0.02    0.02     1.22   \n",
      "7        2.499    2.36      2.35  0.016    ...      0.02    0.02    1.248   \n",
      "8            0    2.26     2.335  0.016    ...      0.02    0.02    1.275   \n",
      "9            0   2.402     2.275  0.017    ...      0.02    0.02    1.275   \n",
      "10       2.488    2.28     2.296  0.017    ...     0.021   0.021    1.255   \n",
      "11       2.533     2.3     2.326  0.017    ...     0.021   0.021    1.331   \n",
      "12       2.395   2.238     2.246  0.016    ...     0.021   0.021     1.37   \n",
      "13       2.437   2.235     2.235  0.016    ...     0.021   0.021     1.37   \n",
      "14       2.522   2.329     2.243  0.016    ...     0.021   0.021     1.37   \n",
      "15       2.487   2.214     2.258  0.016    ...     0.021   0.021     1.37   \n",
      "16       2.489    2.21      2.19  0.016    ...     0.021   0.021      1.3   \n",
      "17        2.44     2.2     2.171  0.016    ...     0.021   0.021     1.22   \n",
      "18       2.369    2.22     2.259  0.016    ...     0.021   0.021    1.265   \n",
      "19       2.389   2.224     2.234  0.017    ...     0.021   0.021    1.265   \n",
      "20       2.405   2.219     2.213  0.016    ...     0.021   0.021    1.265   \n",
      "21        2.44   2.242     2.256  0.015    ...     0.021   0.021    1.265   \n",
      "22       2.405   2.267     2.299  0.016    ...     0.021   0.021     1.28   \n",
      "23       2.622   2.278     2.272  0.016    ...     0.021   0.021     1.28   \n",
      "24         2.6    2.31     2.291  0.017    ...     0.021   0.021     1.28   \n",
      "25       2.527    2.27     2.319  0.017    ...     0.021   0.021     1.28   \n",
      "26       2.431   2.251     2.291  0.017    ...      0.02    0.02     1.35   \n",
      "27       2.568   2.328     2.251  0.016    ...     0.021   0.021     1.35   \n",
      "28        2.51    2.31      2.31  0.016    ...     0.021   0.021     1.35   \n",
      "29           0   2.409     2.278  0.016    ...      0.02    0.02     1.35   \n",
      "30       2.485   2.379     2.379  0.016    ...      0.04    0.03      1.4   \n",
      "...        ...     ...       ...    ...    ...       ...     ...      ...   \n",
      "2749   20.0099    35.4      35.1   0.53    ...         0       0  2.40262   \n",
      "2750   19.9639    35.7      35.2   0.56    ...         0       0  2.12503   \n",
      "2751   19.5499    35.3     35.26   0.58    ...         0       0   2.1346   \n",
      "2752   19.5499    33.9     35.06   0.55    ...         0       0   2.1346   \n",
      "2753   20.2399      34        34   0.57    ...         0       0  2.11545   \n",
      "2754   19.9179    35.2      33.8   0.51    ...         0       0  2.12503   \n",
      "2755   19.9179    35.3      34.9    0.5    ...         0       0  2.11545   \n",
      "2756   20.0099    33.6      34.9   0.52    ...         0       0  2.15374   \n",
      "2757   19.5499    33.5      33.2   0.53    ...         0       0  2.24946   \n",
      "2758   19.9639    32.8     33.54   0.57    ...         0       0  2.06759   \n",
      "2759   20.1019      32      32.4   0.53    ...         0       0   2.2016   \n",
      "2760   19.5499    32.3        32   0.56    ...         0       0   2.2016   \n",
      "2761   19.9639      33      31.7   0.55    ...         0       0  2.10588   \n",
      "2762   19.7799   32.84     32.72   0.56    ...         0       0  2.23032   \n",
      "2763   20.0099    32.9      32.6   0.55    ...         0       0  2.24946   \n",
      "2764   19.7799    32.3      33.4   0.56    ...         0       0  2.33561   \n",
      "2765   20.0099    33.4     32.04   0.57    ...         0       0  2.36433   \n",
      "2766   19.7799    31.2     32.92   0.57    ...         0       0  2.40262   \n",
      "2767   20.1939      33      32.4   0.59    ...         0       0  2.40262   \n",
      "2768   20.6999    32.9        33   0.62    ...         0       0  2.46005   \n",
      "2769   20.3779   31.24     31.82   0.59    ...         0       0  2.46005   \n",
      "2770   19.8719    30.9      31.5   0.59    ...         0       0  2.45048   \n",
      "2771   19.7799   31.66      30.6   0.57    ...         0       0  2.42176   \n",
      "2772   19.7799    31.8      31.5   0.68    ...         0       0  2.44091   \n",
      "2773   19.7799    30.4      31.6   0.78    ...         0       0  2.39305   \n",
      "2774   20.0099   28.26     29.64   0.32    ...         0       0  2.46963   \n",
      "2775   19.7799    28.6      28.1    0.3    ...         0       0  2.63235   \n",
      "2776   19.5499    28.6     28.72    0.3    ...         0       0  2.22075   \n",
      "2777   19.7799    28.4      28.3   0.32    ...         0       0  2.49834   \n",
      "2778   19.6419   26.84     28.46   0.26    ...         0       0  2.48877   \n",
      "\n",
      "     RTVGn.F.1 ZALG.DE ZALG.DE.1 ZEFG.DE ZEFG.DE.1 ZO1G.DE ZO1G.DE.1  \n",
      "1         1.22   34.99    34.275     1.6       1.6     121     119.1  \n",
      "2         1.22  35.855    35.165       0         0   123.2       121  \n",
      "3         1.22   35.14    35.845   1.554     1.575     123     123.1  \n",
      "4        1.221   36.05     35.22       0         0   122.5       123  \n",
      "5         1.22  35.315    36.115       0         0     121     122.4  \n",
      "6         1.22   35.62    35.345       0         0   120.5       121  \n",
      "7        1.248  36.025     35.61       0         0     120    120.45  \n",
      "8        1.275   35.97    35.895    1.46      1.46   119.1    119.85  \n",
      "9        1.275   35.77     35.81       0         0   122.5     120.8  \n",
      "10       1.338   35.57    35.665       0         0  122.05    123.05  \n",
      "11        1.28   35.06    35.395       0         0   126.6    122.05  \n",
      "12        1.37    34.8    35.005   1.507     1.507   124.7     125.4  \n",
      "13        1.37   34.85     34.78       0         0     126     124.8  \n",
      "14        1.37  35.845    34.785   1.547     1.547   126.8    125.25  \n",
      "15        1.37  35.165    35.495   1.511       1.5   128.4    126.15  \n",
      "16       1.415   38.55     34.87    1.53       1.5  128.45     128.4  \n",
      "17       1.335  35.695      37.5   1.597      1.55  125.95     128.2  \n",
      "18       1.265  36.825      36.9       0         0   128.6    128.35  \n",
      "19       1.265    37.8    36.955       0         0  127.65    128.05  \n",
      "20       1.265   38.45    38.415       0         0   128.5     127.6  \n",
      "21       1.265  38.285     38.45       0         0   128.6     127.9  \n",
      "22       1.265   39.02     38.48   1.617       1.6  129.45     128.5  \n",
      "23        1.28  40.115    39.105       0         0   130.5     129.8  \n",
      "24        1.28  39.695     39.99   1.617     1.617  130.45    129.55  \n",
      "25        1.28  40.125    39.795    1.58      1.58   128.8    129.95  \n",
      "26        1.35  39.895     40.35    1.67       1.6   128.5     129.5  \n",
      "27        1.35   40.22     39.82    1.67      1.67     128    128.95  \n",
      "28        1.35   40.16    40.225    1.88      1.73     128    128.05  \n",
      "29        1.35  39.785     39.98       0         0     130     128.2  \n",
      "30         1.4    40.4     39.61    1.88     1.835     130     129.7  \n",
      "...        ...     ...       ...     ...       ...     ...       ...  \n",
      "2749   2.58449       0         0       0         0       0         0  \n",
      "2750   2.34519       0         0       0         0       0         0  \n",
      "2751    2.1346       0         0       0         0       0         0  \n",
      "2752    2.1346       0         0       0         0       0         0  \n",
      "2753    2.1346       0         0       0         0       0         0  \n",
      "2754   2.12503       0         0       0         0       0         0  \n",
      "2755   2.12503       0         0       0         0       0         0  \n",
      "2756   2.15374       0         0       0         0       0         0  \n",
      "2757   2.18246       0         0       0         0       0         0  \n",
      "2758    2.2016       0         0       0         0       0         0  \n",
      "2759   2.06759       0         0       0         0       0         0  \n",
      "2760    2.2016       0         0       0         0       0         0  \n",
      "2761   2.23032       0         0       0         0       0         0  \n",
      "2762   2.15374       0         0       0         0       0         0  \n",
      "2763   2.23032       0         0       0         0       0         0  \n",
      "2764   2.24946       0         0       0         0       0         0  \n",
      "2765    2.3739       0         0       0         0       0         0  \n",
      "2766   2.41219       0         0       0         0       0         0  \n",
      "2767   2.40262       0         0       0         0       0         0  \n",
      "2768   2.40262       0         0       0         0       0         0  \n",
      "2769   2.46005       0         0       0         0       0         0  \n",
      "2770   2.46005       0         0       0         0       0         0  \n",
      "2771   2.48877       0         0       0         0       0         0  \n",
      "2772   2.44091       0         0       0         0       0         0  \n",
      "2773   2.44091       0         0       0         0       0         0  \n",
      "2774   2.46005       0         0       0         0       0         0  \n",
      "2775   2.50791       0         0       0         0       0         0  \n",
      "2776   2.69936       0         0       0         0       0         0  \n",
      "2777   2.53663       0         0       0         0       0         0  \n",
      "2778   2.53663       0         0       0         0       0         0  \n",
      "\n",
      "[2778 rows x 853 columns]\n"
     ]
    }
   ],
   "source": [
    "print(dfTime.ix[1:,0:])"
   ]
  },
  {
   "cell_type": "code",
   "execution_count": 492,
   "metadata": {
    "collapsed": false
   },
   "outputs": [
    {
     "ename": "AttributeError",
     "evalue": "'list' object has no attribute 'diff'",
     "output_type": "error",
     "traceback": [
      "\u001b[0;31m---------------------------------------------------------------------------\u001b[0m",
      "\u001b[0;31mAttributeError\u001b[0m                            Traceback (most recent call last)",
      "\u001b[0;32m<ipython-input-492-652c66a41463>\u001b[0m in \u001b[0;36m<module>\u001b[0;34m()\u001b[0m\n\u001b[1;32m      1\u001b[0m \u001b[0mrets\u001b[0m \u001b[0;34m=\u001b[0m \u001b[0;34m[\u001b[0m\u001b[0;34m-\u001b[0m\u001b[0;36m0.01\u001b[0m\u001b[0;34m,\u001b[0m \u001b[0;34m-\u001b[0m\u001b[0;36m0.02\u001b[0m\u001b[0;34m,\u001b[0m \u001b[0;34m-\u001b[0m\u001b[0;36m0.01\u001b[0m\u001b[0;34m,\u001b[0m \u001b[0;36m0.04\u001b[0m\u001b[0;34m,\u001b[0m \u001b[0;36m0.02\u001b[0m\u001b[0;34m,\u001b[0m \u001b[0;36m0.01\u001b[0m\u001b[0;34m,\u001b[0m \u001b[0;34m-\u001b[0m\u001b[0;36m0.03\u001b[0m\u001b[0;34m]\u001b[0m\u001b[0;34m\u001b[0m\u001b[0m\n\u001b[1;32m      2\u001b[0m \u001b[0mlst\u001b[0m \u001b[0;34m=\u001b[0m\u001b[0mpd\u001b[0m\u001b[0;34m.\u001b[0m\u001b[0mDataFrame\u001b[0m\u001b[0;34m(\u001b[0m\u001b[0;34m)\u001b[0m\u001b[0;34m\u001b[0m\u001b[0m\n\u001b[0;32m----> 3\u001b[0;31m \u001b[0mlst\u001b[0m \u001b[0;34m=\u001b[0m \u001b[0mrets\u001b[0m\u001b[0;34m.\u001b[0m\u001b[0mdiff\u001b[0m\u001b[0;34m(\u001b[0m\u001b[0;34m)\u001b[0m\u001b[0;34m\u001b[0m\u001b[0m\n\u001b[0m\u001b[1;32m      4\u001b[0m \u001b[0mprint\u001b[0m\u001b[0;34m(\u001b[0m\u001b[0mrets\u001b[0m\u001b[0;34m)\u001b[0m\u001b[0;34m\u001b[0m\u001b[0m\n",
      "\u001b[0;31mAttributeError\u001b[0m: 'list' object has no attribute 'diff'"
     ]
    }
   ],
   "source": [
    "rets = [-0.01, -0.02, -0.01, 0.04, 0.02, 0.01, -0.03]\n",
    "lst =pd.DataFrame()\n",
    "lst = rets.diff()\n",
    "print(rets)"
   ]
  },
  {
   "cell_type": "code",
   "execution_count": 35,
   "metadata": {
    "collapsed": false
   },
   "outputs": [
    {
     "name": "stdout",
     "output_type": "stream",
     "text": [
      "                  Date     TGTG.DE    TGTG.DE.1     UUUG.DE    UUUG.DE.1  \\\n",
      "0            Timestamp  Trade Open  Trade Close  Trade Open  Trade Close   \n",
      "1  2016-12-01 00:00:00        0.64        0.646       0.641         0.64   \n",
      "2  2016-11-30 00:00:00        0.63         0.68       0.641        0.641   \n",
      "3  2016-11-29 00:00:00        0.68        0.696        0.65         0.66   \n",
      "4  2016-11-28 00:00:00       0.686          0.7        0.65         0.65   \n",
      "\n",
      "      VSCk.DE    VSCk.DE.1     HRPKk.F    HRPKk.F.1      LUMG.F     ...       \\\n",
      "0  Trade Open  Trade Close  Trade Open  Trade Close  Trade Open     ...        \n",
      "1       2.532        2.532       2.276        2.276       0.016     ...        \n",
      "2       2.496        2.451       2.254        2.281       0.016     ...        \n",
      "3       2.416        2.416       2.266        2.357       0.016     ...        \n",
      "4        2.52          2.5        2.36        2.324       0.016     ...        \n",
      "\n",
      "        YB1.F      YB1.F.1     RTVGn.F    RTVGn.F.1     ZALG.DE    ZALG.DE.1  \\\n",
      "0  Trade Open  Trade Close  Trade Open  Trade Close  Trade Open  Trade Close   \n",
      "1        0.02         0.02        1.22         1.22       34.99       34.275   \n",
      "2        0.02         0.02        1.22         1.22      35.855       35.165   \n",
      "3        0.02         0.02        1.22         1.22       35.14       35.845   \n",
      "4        0.02         0.02       1.221        1.221       36.05        35.22   \n",
      "\n",
      "      ZEFG.DE    ZEFG.DE.1     ZO1G.DE    ZO1G.DE.1  \n",
      "0  Trade Open  Trade Close  Trade Open  Trade Close  \n",
      "1         1.6          1.6         121        119.1  \n",
      "2           0            0       123.2          121  \n",
      "3       1.554        1.575         123        123.1  \n",
      "4           0            0       122.5          123  \n",
      "\n",
      "[5 rows x 853 columns]\n"
     ]
    }
   ],
   "source": [
    "print(dfTime.head())"
   ]
  },
  {
   "cell_type": "code",
   "execution_count": 62,
   "metadata": {
    "collapsed": true
   },
   "outputs": [],
   "source": [
    "dfTMP = xl.parse(\"TS\", skiprows = 0, skip_footer =False)\n"
   ]
  },
  {
   "cell_type": "code",
   "execution_count": 63,
   "metadata": {
    "collapsed": false
   },
   "outputs": [
    {
     "name": "stdout",
     "output_type": "stream",
     "text": [
      "                  Date     TGTG.DE    TGTG.DE.1     UUUG.DE    UUUG.DE.1  \\\n",
      "0            Timestamp  Trade Open  Trade Close  Trade Open  Trade Close   \n",
      "1  2016-12-01 00:00:00        0.64        0.646       0.641         0.64   \n",
      "2  2016-11-30 00:00:00        0.63         0.68       0.641        0.641   \n",
      "3  2016-11-29 00:00:00        0.68        0.696        0.65         0.66   \n",
      "4  2016-11-28 00:00:00       0.686          0.7        0.65         0.65   \n",
      "5  2016-11-25 00:00:00       0.702          0.7         NaN          NaN   \n",
      "6  2016-11-24 00:00:00         NaN          NaN       0.661        0.656   \n",
      "7  2016-11-23 00:00:00       0.718        0.718       0.664        0.664   \n",
      "\n",
      "      VSCk.DE    VSCk.DE.1     HRPKk.F    HRPKk.F.1      LUMG.F     ...       \\\n",
      "0  Trade Open  Trade Close  Trade Open  Trade Close  Trade Open     ...        \n",
      "1       2.532        2.532       2.276        2.276       0.016     ...        \n",
      "2       2.496        2.451       2.254        2.281       0.016     ...        \n",
      "3       2.416        2.416       2.266        2.357       0.016     ...        \n",
      "4        2.52          2.5        2.36        2.324       0.016     ...        \n",
      "5         2.4        2.567       2.317         2.35       0.016     ...        \n",
      "6       2.412        2.401       2.288        2.373       0.016     ...        \n",
      "7       2.499        2.499        2.36         2.35       0.016     ...        \n",
      "\n",
      "        YB1.F      YB1.F.1     RTVGn.F    RTVGn.F.1     ZALG.DE    ZALG.DE.1  \\\n",
      "0  Trade Open  Trade Close  Trade Open  Trade Close  Trade Open  Trade Close   \n",
      "1        0.02         0.02        1.22         1.22       34.99       34.275   \n",
      "2        0.02         0.02        1.22         1.22      35.855       35.165   \n",
      "3        0.02         0.02        1.22         1.22       35.14       35.845   \n",
      "4        0.02         0.02       1.221        1.221       36.05        35.22   \n",
      "5        0.02         0.02        1.22         1.22      35.315       36.115   \n",
      "6        0.02         0.02        1.22         1.22       35.62       35.345   \n",
      "7        0.02         0.02       1.248        1.248      36.025        35.61   \n",
      "\n",
      "      ZEFG.DE    ZEFG.DE.1     ZO1G.DE    ZO1G.DE.1  \n",
      "0  Trade Open  Trade Close  Trade Open  Trade Close  \n",
      "1         1.6          1.6         121        119.1  \n",
      "2         NaN          NaN       123.2          121  \n",
      "3       1.554        1.575         123        123.1  \n",
      "4         NaN          NaN       122.5          123  \n",
      "5         NaN          NaN         121        122.4  \n",
      "6         NaN          NaN       120.5          121  \n",
      "7         NaN          NaN         120       120.45  \n",
      "\n",
      "[8 rows x 853 columns]\n"
     ]
    }
   ],
   "source": [
    "#print(dfTMP.head(8))"
   ]
  },
  {
   "cell_type": "code",
   "execution_count": 66,
   "metadata": {
    "collapsed": false
   },
   "outputs": [
    {
     "name": "stdout",
     "output_type": "stream",
     "text": [
      "  TGTG.DE TGTG.DE.1\n",
      "1    0.64     0.646\n",
      "2    0.63      0.68\n",
      "3    0.68     0.696\n",
      "4   0.686       0.7\n",
      "5   0.702       0.7\n",
      "7   0.718     0.718\n",
      "8   0.796     0.728\n",
      "9     0.8     0.752\n",
      "      TGTG.DE  TGTG.DE.1      rets\n",
      "1       0.640      0.646  0.000000\n",
      "2       0.630      0.680  0.052632\n",
      "3       0.680      0.696  0.023529\n",
      "4       0.686      0.700  0.005747\n",
      "5       0.702      0.700  0.000000\n",
      "7       0.718      0.718  0.025714\n",
      "8       0.796      0.728  0.013928\n",
      "9       0.800      0.752  0.032967\n",
      "10      0.810      0.772  0.026596\n",
      "11      0.780      0.785  0.016839\n",
      "12      0.780      0.781 -0.005096\n",
      "13      0.800      0.789  0.010243\n",
      "14      0.796      0.796  0.008872\n",
      "15      0.800      0.785 -0.013819\n",
      "16      0.801      0.814  0.036943\n",
      "17      0.810      0.810 -0.004914\n",
      "18      0.813      0.813  0.003704\n",
      "19      0.819      0.819  0.007380\n",
      "20      0.812      0.812 -0.008547\n",
      "21      0.840      0.816  0.004926\n",
      "22      0.832      0.832  0.019608\n",
      "24      0.850      0.850  0.021635\n",
      "27      0.835      0.850  0.000000\n",
      "29      0.868      0.870  0.023529\n",
      "30      0.832      0.832 -0.043678\n",
      "31      0.894      0.832  0.000000\n",
      "32      0.840      0.840  0.009615\n",
      "33      0.832      0.837 -0.003571\n",
      "34      0.891      0.840  0.003584\n",
      "35      0.936      0.890  0.059524\n",
      "...       ...        ...       ...\n",
      "2749   21.150     21.140  0.012452\n",
      "2750   20.060     21.170  0.001419\n",
      "2751   20.490     20.350 -0.038734\n",
      "2752   19.550     20.500  0.007371\n",
      "2753   20.320     20.000 -0.024390\n",
      "2754   20.500     20.470  0.023500\n",
      "2755   20.700     20.540  0.003420\n",
      "2756   20.440     20.480 -0.002921\n",
      "2757   20.390     20.470 -0.000488\n",
      "2758   20.440     20.690  0.010747\n",
      "2759   20.200     20.400 -0.014016\n",
      "2760   20.000     20.000 -0.019608\n",
      "2761   19.500     19.950 -0.002500\n",
      "2762   19.300     19.360 -0.029574\n",
      "2763   19.240     19.240 -0.006198\n",
      "2764   19.150     19.270  0.001559\n",
      "2765   19.350     19.200 -0.003633\n",
      "2766   19.260     19.240  0.002083\n",
      "2767   19.570     19.250  0.000520\n",
      "2768   19.780     19.600  0.018182\n",
      "2769   19.410     19.760  0.008163\n",
      "2770   19.000     19.500 -0.013158\n",
      "2771   18.650     19.000 -0.025641\n",
      "2772   18.800     18.740 -0.013684\n",
      "2773   18.100     18.680 -0.003202\n",
      "2774   17.870     18.050 -0.033726\n",
      "2775   17.640     17.870 -0.009972\n",
      "2776   17.340     17.650 -0.012311\n",
      "2777   17.220     17.340 -0.017564\n",
      "2778   17.010     17.440  0.005767\n",
      "\n",
      "[2721 rows x 3 columns]\n",
      "0.001540418890863305\n",
      "0.025902604849142245\n",
      "41.0655746427\n"
     ]
    }
   ],
   "source": [
    "tmp = dfTMP\n",
    "MoneyVol = 1000\n",
    "tmp=pd.DataFrame(tmp.ix[1:,1:3])\n",
    "#tmp['TGTG.DE.1'].fillna((tmp['TGTG.DE.1'].mean()), inplace=True)\n",
    "\n",
    "tmp = tmp[pd.notnull(tmp['TGTG.DE.1'])]\n",
    "print(tmp.head(8))\n",
    "#tmp = tmp[::2]\n",
    "\n",
    "\n",
    "tmp[\"rets\"] = tmp[\"TGTG.DE.1\"].pct_change()\n",
    "tmp.replace(np.NaN,0 , inplace =True) \n",
    "tmp = tmp.replace([np.inf, -np.inf], 0)\n",
    "tmp = tmp.astype(float)\n",
    "\n",
    "#print(tmp)\n",
    "\n",
    "mu = np.mean(tmp[\"rets\"])\n",
    "sigma = np.std(tmp[\"rets\"])\n",
    "print(mu)\n",
    "print(sigma)\n",
    "valueAtRisk_95 = MoneyVol - MoneyVol*(norm.ppf(0.05, mu, sigma) + 1)\n",
    "print(valueAtRisk_95)"
   ]
  },
  {
   "cell_type": "code",
   "execution_count": null,
   "metadata": {
    "collapsed": true
   },
   "outputs": [],
   "source": [
    "def SMALLabsPortf_HistVaR(listofInv =dfTime, numDays= 2, MoneyVol =1000, startDt = '22/11/2016', endDt ='01/12/2016' ):\n",
    " \n",
    "    set1=pd.DataFrame()\n",
    "\n",
    "    colListPrime = list(dfTime.columns.values)\n",
    "    del colListPrime[0]\n",
    "    colListPrime = colListPrime[::2]\n",
    "\n",
    "    for i in range(1, len(colListFull), 2):\n",
    "        set2 =(listofInv[listofInv.columns[i+1]].astype(float)) - (listofInv[listofInv.columns[i]].astype(float))\n",
    "        set1 = pd.concat([set1, set2] , axis=1)\n",
    "        del set2\n",
    "\n",
    "    set1.columns = [colListPrime]\n",
    "    #print(set1.head())\n",
    "\n",
    "\n",
    "    SumSet = set1.groupby((np.arange(len(set1.columns)) //len(set1.columns)*10 ) + 1, axis=1).sum().add_prefix('sum')\n",
    "    SumSet[\"rets\"] = SumSet[\"sum1\"].pct_change()\n",
    "\n",
    "    \n",
    "    mu = np.mean(SumSet[\"rets\"])\n",
    "    sigma = np.std(SumSet[\"rets\"])\n",
    "\n",
    "    print(mu)\n",
    "    print(sigma)\n",
    "    #print \"Value-at-Risk: $%0.2f\" % var\n",
    "    \n",
    "    valueAtRisk_95 = MoneyVol - MoneyVol*(norm.ppf(0.05, mu, sigma) + 1)\n",
    "    valueAtRisk_99 = MoneyVol - MoneyVol*(norm.ppf(0.01, mu, sigma) + 1)\n",
    "\n",
    "    \n",
    "       \n",
    "    #Portf_stddev = (sum1+2*sum2) ** (0.5)\n",
    "    print(\"Portfolio Historical Value at Risk with 95% confidence is: \" + str(valueAtRisk_95))\n",
    "    print(\"Portfolio Historical Value at Risk with 99% confidence is: \" + str(valueAtRisk_99))\n",
    "    \n",
    "    #print(lStdDev)\n",
    "    \n",
    "absPortf_HistVaR(dfTime, 21, 1000, '22/11/2016','24/11/2016' )"
   ]
  },
  {
   "cell_type": "code",
   "execution_count": 462,
   "metadata": {
    "collapsed": false
   },
   "outputs": [
    {
     "name": "stdout",
     "output_type": "stream",
     "text": [
      "                     Date TGTG.DE TGTG.DE.1 UUUG.DE UUUG.DE.1  VSCk.DE  \\\n",
      "1     2016-12-01 00:00:00    0.64     0.646   0.641      0.64    2.532   \n",
      "2     2016-11-30 00:00:00    0.63      0.68   0.641     0.641    2.496   \n",
      "3     2016-11-29 00:00:00    0.68     0.696    0.65      0.66    2.416   \n",
      "4     2016-11-28 00:00:00   0.686       0.7    0.65      0.65     2.52   \n",
      "5     2016-11-25 00:00:00   0.702       0.7       0         0      2.4   \n",
      "6     2016-11-24 00:00:00       0         0   0.661     0.656    2.412   \n",
      "7     2016-11-23 00:00:00   0.718     0.718   0.664     0.664    2.499   \n",
      "8     2016-11-22 00:00:00   0.796     0.728    0.65     0.647        0   \n",
      "9     2016-11-21 00:00:00     0.8     0.752   0.646     0.645        0   \n",
      "10    2016-11-18 00:00:00    0.81     0.772    0.68     0.645    2.532   \n",
      "11    2016-11-17 00:00:00    0.78     0.785    0.68     0.655    2.475   \n",
      "12    2016-11-16 00:00:00    0.78     0.781   0.679     0.679     2.44   \n",
      "13    2016-11-15 00:00:00     0.8     0.789   0.681     0.679    2.441   \n",
      "14    2016-11-14 00:00:00   0.796     0.796   0.663     0.663    2.544   \n",
      "15    2016-11-11 00:00:00     0.8     0.785   0.664      0.64    2.487   \n",
      "16    2016-11-10 00:00:00   0.801     0.814    0.64      0.64    2.429   \n",
      "17    2016-11-09 00:00:00    0.81      0.81   0.638     0.631    2.286   \n",
      "18    2016-11-08 00:00:00   0.813     0.813   0.638      0.64     2.37   \n",
      "19    2016-11-07 00:00:00   0.819     0.819   0.664     0.659      2.4   \n",
      "20    2016-11-04 00:00:00   0.812     0.812    0.65     0.645    2.405   \n",
      "21    2016-11-03 00:00:00    0.84     0.816   0.655     0.651     2.42   \n",
      "22    2016-11-02 00:00:00   0.832     0.832    0.65      0.65     2.55   \n",
      "23    2016-11-01 00:00:00       0         0   0.668     0.659    2.639   \n",
      "24    2016-10-31 00:00:00    0.85      0.85   0.649      0.67    2.569   \n",
      "25    2016-10-28 00:00:00       0         0   0.645     0.645    2.512   \n",
      "26    2016-10-27 00:00:00       0         0   0.634     0.645    2.511   \n",
      "27    2016-10-26 00:00:00   0.835      0.85    0.64     0.637    2.511   \n",
      "28    2016-10-25 00:00:00       0         0    0.64     0.648     2.48   \n",
      "29    2016-10-24 00:00:00   0.868      0.87    0.65     0.631        0   \n",
      "30    2016-10-21 00:00:00   0.832     0.832    0.64      0.64    2.515   \n",
      "...                   ...     ...       ...     ...       ...      ...   \n",
      "2749  2006-02-10 00:00:00   21.15     21.14    0.86      0.85  19.5039   \n",
      "2750  2006-02-09 00:00:00   20.06     21.17    0.87      0.86  19.9639   \n",
      "2751  2006-02-08 00:00:00   20.49     20.35    0.87      0.87  20.0099   \n",
      "2752  2006-02-07 00:00:00   19.55      20.5    0.87      0.87  19.9179   \n",
      "2753  2006-02-06 00:00:00   20.32        20    0.89      0.87  19.9179   \n",
      "2754  2006-02-03 00:00:00    20.5     20.47    0.88      0.89  19.9179   \n",
      "2755  2006-02-02 00:00:00    20.7     20.54    0.89      0.89  19.9179   \n",
      "2756  2006-02-01 00:00:00   20.44     20.48    0.89      0.87  19.6419   \n",
      "2757  2006-01-31 00:00:00   20.39     20.47     0.9      0.86  19.5499   \n",
      "2758  2006-01-30 00:00:00   20.44     20.69    0.83       0.9  19.7799   \n",
      "2759  2006-01-27 00:00:00    20.2      20.4    0.88      0.86  19.5499   \n",
      "2760  2006-01-26 00:00:00      20        20    0.81      0.88  19.5499   \n",
      "2761  2006-01-25 00:00:00    19.5     19.95    0.81      0.82  19.9639   \n",
      "2762  2006-01-24 00:00:00    19.3     19.36    0.83      0.82  19.5499   \n",
      "2763  2006-01-23 00:00:00   19.24     19.24    0.84      0.82  20.0099   \n",
      "2764  2006-01-20 00:00:00   19.15     19.27    0.82      0.83  19.9179   \n",
      "2765  2006-01-19 00:00:00   19.35      19.2    0.83      0.83  19.5499   \n",
      "2766  2006-01-18 00:00:00   19.26     19.24    0.85      0.83  20.0099   \n",
      "2767  2006-01-17 00:00:00   19.57     19.25    0.86      0.86  20.4699   \n",
      "2768  2006-01-16 00:00:00   19.78      19.6    0.87      0.86  20.3779   \n",
      "2769  2006-01-13 00:00:00   19.41     19.76    0.88      0.87  19.9179   \n",
      "2770  2006-01-12 00:00:00      19      19.5    0.86      0.87  19.7339   \n",
      "2771  2006-01-11 00:00:00   18.65        19    0.87      0.88  19.7799   \n",
      "2772  2006-01-10 00:00:00    18.8     18.74    0.87      0.88  19.7339   \n",
      "2773  2006-01-09 00:00:00    18.1     18.68    0.91      0.88  20.2399   \n",
      "2774  2006-01-06 00:00:00   17.87     18.05    0.85       0.9  19.9179   \n",
      "2775  2006-01-05 00:00:00   17.64     17.87    0.85      0.86  19.9179   \n",
      "2776  2006-01-04 00:00:00   17.34     17.65    0.84      0.86  19.7799   \n",
      "2777  2006-01-03 00:00:00   17.22     17.34    0.87      0.85  19.9639   \n",
      "2778  2006-01-02 00:00:00   17.01     17.44    0.83      0.86  20.2399   \n",
      "\n",
      "     VSCk.DE.1 HRPKk.F HRPKk.F.1 LUMG.F    ...     YB1.F YB1.F.1  RTVGn.F  \\\n",
      "1        2.532   2.276     2.276  0.016    ...      0.02    0.02     1.22   \n",
      "2        2.451   2.254     2.281  0.016    ...      0.02    0.02     1.22   \n",
      "3        2.416   2.266     2.357  0.016    ...      0.02    0.02     1.22   \n",
      "4          2.5    2.36     2.324  0.016    ...      0.02    0.02    1.221   \n",
      "5        2.567   2.317      2.35  0.016    ...      0.02    0.02     1.22   \n",
      "6        2.401   2.288     2.373  0.016    ...      0.02    0.02     1.22   \n",
      "7        2.499    2.36      2.35  0.016    ...      0.02    0.02    1.248   \n",
      "8            0    2.26     2.335  0.016    ...      0.02    0.02    1.275   \n",
      "9            0   2.402     2.275  0.017    ...      0.02    0.02    1.275   \n",
      "10       2.488    2.28     2.296  0.017    ...     0.021   0.021    1.255   \n",
      "11       2.533     2.3     2.326  0.017    ...     0.021   0.021    1.331   \n",
      "12       2.395   2.238     2.246  0.016    ...     0.021   0.021     1.37   \n",
      "13       2.437   2.235     2.235  0.016    ...     0.021   0.021     1.37   \n",
      "14       2.522   2.329     2.243  0.016    ...     0.021   0.021     1.37   \n",
      "15       2.487   2.214     2.258  0.016    ...     0.021   0.021     1.37   \n",
      "16       2.489    2.21      2.19  0.016    ...     0.021   0.021      1.3   \n",
      "17        2.44     2.2     2.171  0.016    ...     0.021   0.021     1.22   \n",
      "18       2.369    2.22     2.259  0.016    ...     0.021   0.021    1.265   \n",
      "19       2.389   2.224     2.234  0.017    ...     0.021   0.021    1.265   \n",
      "20       2.405   2.219     2.213  0.016    ...     0.021   0.021    1.265   \n",
      "21        2.44   2.242     2.256  0.015    ...     0.021   0.021    1.265   \n",
      "22       2.405   2.267     2.299  0.016    ...     0.021   0.021     1.28   \n",
      "23       2.622   2.278     2.272  0.016    ...     0.021   0.021     1.28   \n",
      "24         2.6    2.31     2.291  0.017    ...     0.021   0.021     1.28   \n",
      "25       2.527    2.27     2.319  0.017    ...     0.021   0.021     1.28   \n",
      "26       2.431   2.251     2.291  0.017    ...      0.02    0.02     1.35   \n",
      "27       2.568   2.328     2.251  0.016    ...     0.021   0.021     1.35   \n",
      "28        2.51    2.31      2.31  0.016    ...     0.021   0.021     1.35   \n",
      "29           0   2.409     2.278  0.016    ...      0.02    0.02     1.35   \n",
      "30       2.485   2.379     2.379  0.016    ...      0.04    0.03      1.4   \n",
      "...        ...     ...       ...    ...    ...       ...     ...      ...   \n",
      "2749   20.0099    35.4      35.1   0.53    ...         0       0  2.40262   \n",
      "2750   19.9639    35.7      35.2   0.56    ...         0       0  2.12503   \n",
      "2751   19.5499    35.3     35.26   0.58    ...         0       0   2.1346   \n",
      "2752   19.5499    33.9     35.06   0.55    ...         0       0   2.1346   \n",
      "2753   20.2399      34        34   0.57    ...         0       0  2.11545   \n",
      "2754   19.9179    35.2      33.8   0.51    ...         0       0  2.12503   \n",
      "2755   19.9179    35.3      34.9    0.5    ...         0       0  2.11545   \n",
      "2756   20.0099    33.6      34.9   0.52    ...         0       0  2.15374   \n",
      "2757   19.5499    33.5      33.2   0.53    ...         0       0  2.24946   \n",
      "2758   19.9639    32.8     33.54   0.57    ...         0       0  2.06759   \n",
      "2759   20.1019      32      32.4   0.53    ...         0       0   2.2016   \n",
      "2760   19.5499    32.3        32   0.56    ...         0       0   2.2016   \n",
      "2761   19.9639      33      31.7   0.55    ...         0       0  2.10588   \n",
      "2762   19.7799   32.84     32.72   0.56    ...         0       0  2.23032   \n",
      "2763   20.0099    32.9      32.6   0.55    ...         0       0  2.24946   \n",
      "2764   19.7799    32.3      33.4   0.56    ...         0       0  2.33561   \n",
      "2765   20.0099    33.4     32.04   0.57    ...         0       0  2.36433   \n",
      "2766   19.7799    31.2     32.92   0.57    ...         0       0  2.40262   \n",
      "2767   20.1939      33      32.4   0.59    ...         0       0  2.40262   \n",
      "2768   20.6999    32.9        33   0.62    ...         0       0  2.46005   \n",
      "2769   20.3779   31.24     31.82   0.59    ...         0       0  2.46005   \n",
      "2770   19.8719    30.9      31.5   0.59    ...         0       0  2.45048   \n",
      "2771   19.7799   31.66      30.6   0.57    ...         0       0  2.42176   \n",
      "2772   19.7799    31.8      31.5   0.68    ...         0       0  2.44091   \n",
      "2773   19.7799    30.4      31.6   0.78    ...         0       0  2.39305   \n",
      "2774   20.0099   28.26     29.64   0.32    ...         0       0  2.46963   \n",
      "2775   19.7799    28.6      28.1    0.3    ...         0       0  2.63235   \n",
      "2776   19.5499    28.6     28.72    0.3    ...         0       0  2.22075   \n",
      "2777   19.7799    28.4      28.3   0.32    ...         0       0  2.49834   \n",
      "2778   19.6419   26.84     28.46   0.26    ...         0       0  2.48877   \n",
      "\n",
      "     RTVGn.F.1 ZALG.DE ZALG.DE.1 ZEFG.DE ZEFG.DE.1 ZO1G.DE ZO1G.DE.1  \n",
      "1         1.22   34.99    34.275     1.6       1.6     121     119.1  \n",
      "2         1.22  35.855    35.165       0         0   123.2       121  \n",
      "3         1.22   35.14    35.845   1.554     1.575     123     123.1  \n",
      "4        1.221   36.05     35.22       0         0   122.5       123  \n",
      "5         1.22  35.315    36.115       0         0     121     122.4  \n",
      "6         1.22   35.62    35.345       0         0   120.5       121  \n",
      "7        1.248  36.025     35.61       0         0     120    120.45  \n",
      "8        1.275   35.97    35.895    1.46      1.46   119.1    119.85  \n",
      "9        1.275   35.77     35.81       0         0   122.5     120.8  \n",
      "10       1.338   35.57    35.665       0         0  122.05    123.05  \n",
      "11        1.28   35.06    35.395       0         0   126.6    122.05  \n",
      "12        1.37    34.8    35.005   1.507     1.507   124.7     125.4  \n",
      "13        1.37   34.85     34.78       0         0     126     124.8  \n",
      "14        1.37  35.845    34.785   1.547     1.547   126.8    125.25  \n",
      "15        1.37  35.165    35.495   1.511       1.5   128.4    126.15  \n",
      "16       1.415   38.55     34.87    1.53       1.5  128.45     128.4  \n",
      "17       1.335  35.695      37.5   1.597      1.55  125.95     128.2  \n",
      "18       1.265  36.825      36.9       0         0   128.6    128.35  \n",
      "19       1.265    37.8    36.955       0         0  127.65    128.05  \n",
      "20       1.265   38.45    38.415       0         0   128.5     127.6  \n",
      "21       1.265  38.285     38.45       0         0   128.6     127.9  \n",
      "22       1.265   39.02     38.48   1.617       1.6  129.45     128.5  \n",
      "23        1.28  40.115    39.105       0         0   130.5     129.8  \n",
      "24        1.28  39.695     39.99   1.617     1.617  130.45    129.55  \n",
      "25        1.28  40.125    39.795    1.58      1.58   128.8    129.95  \n",
      "26        1.35  39.895     40.35    1.67       1.6   128.5     129.5  \n",
      "27        1.35   40.22     39.82    1.67      1.67     128    128.95  \n",
      "28        1.35   40.16    40.225    1.88      1.73     128    128.05  \n",
      "29        1.35  39.785     39.98       0         0     130     128.2  \n",
      "30         1.4    40.4     39.61    1.88     1.835     130     129.7  \n",
      "...        ...     ...       ...     ...       ...     ...       ...  \n",
      "2749   2.58449       0         0       0         0       0         0  \n",
      "2750   2.34519       0         0       0         0       0         0  \n",
      "2751    2.1346       0         0       0         0       0         0  \n",
      "2752    2.1346       0         0       0         0       0         0  \n",
      "2753    2.1346       0         0       0         0       0         0  \n",
      "2754   2.12503       0         0       0         0       0         0  \n",
      "2755   2.12503       0         0       0         0       0         0  \n",
      "2756   2.15374       0         0       0         0       0         0  \n",
      "2757   2.18246       0         0       0         0       0         0  \n",
      "2758    2.2016       0         0       0         0       0         0  \n",
      "2759   2.06759       0         0       0         0       0         0  \n",
      "2760    2.2016       0         0       0         0       0         0  \n",
      "2761   2.23032       0         0       0         0       0         0  \n",
      "2762   2.15374       0         0       0         0       0         0  \n",
      "2763   2.23032       0         0       0         0       0         0  \n",
      "2764   2.24946       0         0       0         0       0         0  \n",
      "2765    2.3739       0         0       0         0       0         0  \n",
      "2766   2.41219       0         0       0         0       0         0  \n",
      "2767   2.40262       0         0       0         0       0         0  \n",
      "2768   2.40262       0         0       0         0       0         0  \n",
      "2769   2.46005       0         0       0         0       0         0  \n",
      "2770   2.46005       0         0       0         0       0         0  \n",
      "2771   2.48877       0         0       0         0       0         0  \n",
      "2772   2.44091       0         0       0         0       0         0  \n",
      "2773   2.44091       0         0       0         0       0         0  \n",
      "2774   2.46005       0         0       0         0       0         0  \n",
      "2775   2.50791       0         0       0         0       0         0  \n",
      "2776   2.69936       0         0       0         0       0         0  \n",
      "2777   2.53663       0         0       0         0       0         0  \n",
      "2778   2.53663       0         0       0         0       0         0  \n",
      "\n",
      "[2778 rows x 853 columns]\n",
      "-0.2646428794333778\n",
      "33.29952749353409\n",
      "Portfolio Historical Value at Risk with 95% confidence is: 55037.4914529\n",
      "Portfolio Historical Value at Risk with 99% confidence is: 77730.9278706\n"
     ]
    }
   ],
   "source": [
    "def absPortf_HistVaR(listofInv =dfTime, numDays= 2, MoneyVol =1000, startDt = '22/11/2016', endDt ='01/12/2016' ):\n",
    " \n",
    "    \"\"\"\n",
    "    Variance-Covariance calculation of daily Value-at-Risk\n",
    "    using confidence level c, with mean of returns mu\n",
    "    and standard deviation of returns sigma, on a portfolio\n",
    "    of value P.\n",
    "    \"\"\"\n",
    "    ##startDate = pd.to_datetime('22/11/2016' )\n",
    "    startDate = np.datetime64( datetime.datetime.strptime(startDt, '%d/%m/%Y'))\n",
    "    endDate= np.datetime64( datetime.datetime.strptime(endDt, '%d/%m/%Y'))\n",
    "    \n",
    "    ##remove Timestamp, Trade Open, Trade Close\n",
    "    listofInv=pd.DataFrame(listofInv.ix[1:,0:])\n",
    "    \n",
    "    listofInv['Date'] =  pd.to_datetime(listofInv['Date'])\n",
    "    listofInv=pd.DataFrame(listofInv)\n",
    "    listofInv[(listofInv.Date >= startDate) & (listofInv.Date <= endDate )]\n",
    "    \n",
    "    \n",
    "    set1=pd.DataFrame()\n",
    "\n",
    "    colListPrime = list(dfTime.columns.values)\n",
    "    del colListPrime[0]\n",
    "    colListPrime = colListPrime[::2]\n",
    "\n",
    "    for i in range(1, len(colListFull), 2):\n",
    "        set2 =(listofInv[listofInv.columns[i+1]].astype(float)) - (listofInv[listofInv.columns[i]].astype(float))\n",
    "        set1 = pd.concat([set1, set2] , axis=1)\n",
    "        del set2\n",
    "\n",
    "    set1.columns = [colListPrime]\n",
    "    #print(set1.head())\n",
    "\n",
    "\n",
    "    SumSet = set1.groupby((np.arange(len(set1.columns)) //len(set1.columns)*10 ) + 1, axis=1).sum().add_prefix('sum')\n",
    "    SumSet[\"rets\"] = SumSet[\"sum1\"].pct_change()\n",
    "    \n",
    "    SumSet.replace(np.NaN,0 , inplace =True) \n",
    "    SumSet = SumSet.replace([np.inf, -np.inf], 0)\n",
    "    SumSet = SumSet.astype(float)\n",
    "\n",
    "    \n",
    "    mu = np.mean(SumSet[\"rets\"])\n",
    "    sigma = np.std(SumSet[\"rets\"])\n",
    "\n",
    "    print(mu)\n",
    "    print(sigma)\n",
    "    #print \"Value-at-Risk: $%0.2f\" % var\n",
    "    \n",
    "    valueAtRisk_95 = MoneyVol - MoneyVol*(norm.ppf(0.05, mu, sigma) + 1)\n",
    "    valueAtRisk_99 = MoneyVol - MoneyVol*(norm.ppf(0.01, mu, sigma) + 1)\n",
    "\n",
    "    \n",
    "       \n",
    "    #Portf_stddev = (sum1+2*sum2) ** (0.5)\n",
    "    print(\"Portfolio Historical Value at Risk with 95% confidence is: \" + str(valueAtRisk_95))\n",
    "    print(\"Portfolio Historical Value at Risk with 99% confidence is: \" + str(valueAtRisk_99))\n",
    "    \n",
    "    #print(lStdDev)\n",
    "    \n",
    "absPortf_HistVaR(dfTime, 21, 1000, '22/11/2016','24/11/2016' )"
   ]
  },
  {
   "cell_type": "code",
   "execution_count": 450,
   "metadata": {
    "collapsed": false
   },
   "outputs": [
    {
     "name": "stdout",
     "output_type": "stream",
     "text": [
      "          sum1       rets\n",
      "1   -46.848000        NaN\n",
      "2   525.618000 -12.219647\n",
      "3    73.273368  -0.860596\n",
      "4   785.402750   9.718802\n",
      "5   -10.768350  -1.013711\n",
      "6    45.071480  -5.185551\n",
      "7   -29.578710  -1.656262\n",
      "8    25.251830  -1.853716\n",
      "9    71.801540   1.843419\n",
      "10  -20.363211  -1.283604\n",
      "11   61.545319  -4.022378\n",
      "12    0.525100  -0.991468\n",
      "13   45.331810  85.329910\n",
      "14  -21.823420  -1.481415\n",
      "15  -15.831130  -0.274581\n",
      "-0.2647381775534474\n"
     ]
    },
    {
     "name": "stderr",
     "output_type": "stream",
     "text": [
      "/Users/sergey/anaconda/lib/python3.5/site-packages/ipykernel/__main__.py:2: SettingWithCopyWarning: \n",
      "A value is trying to be set on a copy of a slice from a DataFrame.\n",
      "Try using .loc[row_indexer,col_indexer] = value instead\n",
      "\n",
      "See the caveats in the documentation: http://pandas.pydata.org/pandas-docs/stable/indexing.html#indexing-view-versus-copy\n",
      "  from ipykernel import kernelapp as app\n"
     ]
    }
   ],
   "source": [
    "SumTest = SumSet.ix[:, 0:2]\n",
    "SumTest[\"rets\"] = SumTest[\"sum1\"].pct_change()\n",
    "SumTest = SumTest.astype(float)\n",
    "\n",
    "SumTest = SumTest.replace([np.inf, -np.inf], 0)\n",
    "#SumTest = SumTest.replace([np.inf, -np.inf], 0).dropna(subset=[\"sum1\", \"rets\"], how=\"all\")\n",
    "#SumTest.loc[(~np.isfinite(SumTest)) & SumTest.notnull()] = np.nan\n",
    "#print(SumTest.head())\n",
    "print(SumTest[:15])\n",
    "\n",
    "#print(SumTest.head())\n",
    "\n",
    "mu = np.mean(SumTest[\"rets\"])\n",
    "print(mu)"
   ]
  },
  {
   "cell_type": "code",
   "execution_count": 8,
   "metadata": {
    "collapsed": false
   },
   "outputs": [
    {
     "data": {
      "text/plain": [
       "2779"
      ]
     },
     "execution_count": 8,
     "metadata": {},
     "output_type": "execute_result"
    }
   ],
   "source": [
    "numcols = len(dfTime.ix[:, 2::2])\n",
    "numcols"
   ]
  },
  {
   "cell_type": "code",
   "execution_count": 47,
   "metadata": {
    "collapsed": false
   },
   "outputs": [],
   "source": [
    "#print(df.head())"
   ]
  },
  {
   "cell_type": "code",
   "execution_count": 10,
   "metadata": {
    "collapsed": false
   },
   "outputs": [
    {
     "data": {
      "text/plain": [
       "2.0816659994661326"
      ]
     },
     "execution_count": 10,
     "metadata": {},
     "output_type": "execute_result"
    }
   ],
   "source": [
    "np.std([1,3,4,6], ddof=1)"
   ]
  },
  {
   "cell_type": "code",
   "execution_count": 11,
   "metadata": {
    "collapsed": false
   },
   "outputs": [
    {
     "data": {
      "text/plain": [
       "1454934451.541977"
      ]
     },
     "execution_count": 11,
     "metadata": {},
     "output_type": "execute_result"
    }
   ],
   "source": [
    "np.std(df['Normalized Income After Taxes'], ddof=1)"
   ]
  },
  {
   "cell_type": "code",
   "execution_count": 22,
   "metadata": {
    "collapsed": true
   },
   "outputs": [],
   "source": [
    "lister = ['mmds', 'kmkd', 'algs', 'idp']"
   ]
  },
  {
   "cell_type": "code",
   "execution_count": 27,
   "metadata": {
    "collapsed": false
   },
   "outputs": [
    {
     "name": "stdout",
     "output_type": "stream",
     "text": [
      "['algs', 'finm', 'idp', 'kmkd', 'mmds']\n"
     ]
    }
   ],
   "source": [
    "print (lister)"
   ]
  },
  {
   "cell_type": "code",
   "execution_count": 24,
   "metadata": {
    "collapsed": true
   },
   "outputs": [],
   "source": [
    "lister.insert(2, 'finm')"
   ]
  },
  {
   "cell_type": "code",
   "execution_count": 26,
   "metadata": {
    "collapsed": true
   },
   "outputs": [],
   "source": [
    "lister.sort()"
   ]
  },
  {
   "cell_type": "code",
   "execution_count": 28,
   "metadata": {
    "collapsed": true
   },
   "outputs": [],
   "source": [
    "fun = ['swm', 'film', 'music']"
   ]
  },
  {
   "cell_type": "code",
   "execution_count": 29,
   "metadata": {
    "collapsed": false
   },
   "outputs": [
    {
     "name": "stdout",
     "output_type": "stream",
     "text": [
      "['swm', 'film', 'music', 'algs', 'finm', 'idp', 'kmkd', 'mmds']\n"
     ]
    }
   ],
   "source": [
    "act = fun + lister\n",
    "print(act)"
   ]
  },
  {
   "cell_type": "code",
   "execution_count": 32,
   "metadata": {
    "collapsed": false
   },
   "outputs": [
    {
     "name": "stdout",
     "output_type": "stream",
     "text": [
      "[[['swm', 'film', 'music']], [['algs', 'finm', 'idp', 'kmkd', 'mmds']]]\n"
     ]
    }
   ],
   "source": [
    "act2 = [[fun], [lister]]\n",
    "print(act2)"
   ]
  },
  {
   "cell_type": "code",
   "execution_count": 14,
   "metadata": {
    "collapsed": false
   },
   "outputs": [
    {
     "name": "stderr",
     "output_type": "stream",
     "text": [
      "/Users/sergey/anaconda/lib/python3.5/site-packages/pandas/io/data.py:35: FutureWarning: \n",
      "The pandas.io.data module is moved to a separate package (pandas-datareader) and will be removed from pandas in a future version.\n",
      "After installing the pandas-datareader package (https://github.com/pydata/pandas-datareader), you can change the import ``from pandas.io import data, wb`` to ``from pandas_datareader import data, wb``.\n",
      "  FutureWarning)\n"
     ]
    }
   ],
   "source": [
    "import datetime\n",
    "import numpy as np\n",
    "import pandas.io.data as web\n",
    "from scipy.stats import norm"
   ]
  },
  {
   "cell_type": "code",
   "execution_count": 15,
   "metadata": {
    "collapsed": true
   },
   "outputs": [],
   "source": [
    "def var_cov_var(P, c, mu, sigma):\n",
    "    \"\"\"\n",
    "    Variance-Covariance calculation of daily Value-at-Risk\n",
    "    using confidence level c, with mean of returns mu\n",
    "    and standard deviation of returns sigma, on a portfolio\n",
    "    of value P.\n",
    "    \"\"\"\n",
    "    alpha = norm.ppf(1-c, mu, sigma)\n",
    "\n",
    "    return P - P*(alpha + 1)"
   ]
  },
  {
   "cell_type": "code",
   "execution_count": 459,
   "metadata": {
    "collapsed": false
   },
   "outputs": [
    {
     "name": "stdout",
     "output_type": "stream",
     "text": [
      "-0.0006470949931906935\n",
      "0.023999247874095846\n",
      "Value-at-Risk: $77704.12\n"
     ]
    }
   ],
   "source": [
    "start = datetime.datetime(2010, 1, 1)\n",
    "end = datetime.datetime(2010, 2, 1)\n",
    "\n",
    "citi = web.DataReader(\"C\", 'yahoo', start, end)\n",
    "citi[\"rets\"] = citi[\"Adj Close\"].pct_change()\n",
    "\n",
    "P = 1e3   # 1,000,000 USD\n",
    "c = 0.99  # 99% confidence interval\n",
    "mu = np.mean(citi[\"rets\"])\n",
    "sigma = np.std(citi[\"rets\"])\n",
    "print(mu)\n",
    "print(sigma)\n",
    "\n",
    "##-0.2646428794333778\n",
    "#33.29952749353409\n",
    "#\n",
    "var = var_cov_var(P, c, -0.26, 33.29)\n",
    "print(  \"Value-at-Risk: $%0.2f\" % var)"
   ]
  },
  {
   "cell_type": "code",
   "execution_count": 22,
   "metadata": {
    "collapsed": false
   },
   "outputs": [
    {
     "name": "stdout",
     "output_type": "stream",
     "text": [
      "            Open  High   Low  Close    Volume  Adj Close      rets\n",
      "Date                                                              \n",
      "2010-01-04  3.36  3.41  3.34   3.40  40679300  33.368288       NaN\n",
      "2010-01-05  3.42  3.55  3.41   3.53  66861700  34.644133  0.038235\n",
      "2010-01-06  3.56  3.68  3.51   3.64  67433800  35.723698  0.031162\n",
      "2010-01-07  3.69  3.70  3.61   3.65  67245100  35.821839  0.002747\n",
      "2010-01-08  3.65  3.67  3.51   3.59  62409700  35.232988 -0.016438\n",
      "2010-01-11  3.66  3.67  3.60   3.63  47557600  35.625554  0.011142\n",
      "2010-01-12  3.59  3.61  3.48   3.52  47011800  34.545993 -0.030303\n",
      "2010-01-13  3.54  3.59  3.50   3.50  41035100  34.349708 -0.005682\n",
      "2010-01-14  3.56  3.56  3.50   3.51  27417000  34.447849  0.002857\n",
      "2010-01-15  3.49  3.50  3.40   3.42  54017700  33.564573 -0.025641\n",
      "2010-01-19  3.34  3.56  3.30   3.54  80789300  34.742278  0.035088\n",
      "2010-01-20  3.51  3.60  3.45   3.46  47944900  33.957139 -0.022599\n",
      "2010-01-21  3.45  3.46  3.20   3.27  95968000  32.092442 -0.054913\n",
      "2010-01-22  3.28  3.39  3.22   3.25  65474100  31.896158 -0.006116\n",
      "2010-01-25  3.31  3.33  3.21   3.23  49752400  31.699873 -0.006154\n",
      "2010-01-26  3.22  3.27  3.15   3.15  45890200  30.914737 -0.024768\n",
      "2010-01-27  3.17  3.23  3.14   3.20  55891300  31.405447  0.015873\n",
      "2010-01-28  3.25  3.29  3.20   3.24  51294200  31.798017  0.012500\n",
      "2010-01-29  3.27  3.34  3.27   3.32  67942900  32.583153  0.024691\n",
      "2010-02-01  3.36  3.37  3.31   3.34  23577600  32.779437  0.006024\n"
     ]
    }
   ],
   "source": [
    "print (citi)\n"
   ]
  },
  {
   "cell_type": "code",
   "execution_count": null,
   "metadata": {
    "collapsed": true
   },
   "outputs": [],
   "source": []
  }
 ],
 "metadata": {
  "anaconda-cloud": {},
  "kernelspec": {
   "display_name": "Python [conda root]",
   "language": "python",
   "name": "conda-root-py"
  },
  "language_info": {
   "codemirror_mode": {
    "name": "ipython",
    "version": 3
   },
   "file_extension": ".py",
   "mimetype": "text/x-python",
   "name": "python",
   "nbconvert_exporter": "python",
   "pygments_lexer": "ipython3",
   "version": "3.5.2"
  }
 },
 "nbformat": 4,
 "nbformat_minor": 1
}
