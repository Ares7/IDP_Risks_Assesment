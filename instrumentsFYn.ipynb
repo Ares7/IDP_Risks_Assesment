{
 "cells": [
  {
   "cell_type": "code",
   "execution_count": 1,
   "metadata": {
    "collapsed": false
   },
   "outputs": [],
   "source": [
    "import pandas as pd\n",
    "import numpy as np\n"
   ]
  },
  {
   "cell_type": "code",
   "execution_count": 2,
   "metadata": {
    "collapsed": true
   },
   "outputs": [],
   "source": [
    "xl = pd.ExcelFile('/Users/sergey/Documents/TUM/IDP/prepared_instruments.xlsx')\n"
   ]
  },
  {
   "cell_type": "code",
   "execution_count": 3,
   "metadata": {
    "collapsed": false
   },
   "outputs": [],
   "source": [
    "df = xl.parse(\"FY0\")\n",
    "dfTime = xl.parse(\"TS\")\n"
   ]
  },
  {
   "cell_type": "code",
   "execution_count": 4,
   "metadata": {
    "collapsed": false
   },
   "outputs": [
    {
     "name": "stdout",
     "output_type": "stream",
     "text": [
      "['Control', 'TS', 'CDAX', 'General', 'FY0', 'FY-1', 'FY-2', 'FY-3', 'FY-4', 'FY-5', 'FY-6']\n"
     ]
    }
   ],
   "source": [
    "xl.sheet_names\n",
    "df.head()\n",
    "print(xl.sheet_names)"
   ]
  },
  {
   "cell_type": "code",
   "execution_count": 5,
   "metadata": {
    "collapsed": false
   },
   "outputs": [
    {
     "data": {
      "text/plain": [
       "1389.0"
      ]
     },
     "execution_count": 5,
     "metadata": {},
     "output_type": "execute_result"
    }
   ],
   "source": [
    "n = (len(dfTime)-1)/2\n",
    "n"
   ]
  },
  {
   "cell_type": "code",
   "execution_count": 6,
   "metadata": {
    "collapsed": false
   },
   "outputs": [
    {
     "name": "stdout",
     "output_type": "stream",
     "text": [
      "1\n",
      "3\n"
     ]
    },
    {
     "data": {
      "text/plain": [
       "[1, 2, 0.64, 0.63, 0.68, 0.641, 0.641, 0.65]"
      ]
     },
     "execution_count": 6,
     "metadata": {},
     "output_type": "execute_result"
    }
   ],
   "source": [
    "x = [1, 2]\n",
    "for i in range(1,4,2):\n",
    "    print(i)  \n",
    "    #x.extend(dfTime.ix[1:3,i])\n",
    "    x.extend(dfTime.ix[1:3,i])\n",
    "#print (x)\n",
    "x"
   ]
  },
  {
   "cell_type": "code",
   "execution_count": 7,
   "metadata": {
    "collapsed": false
   },
   "outputs": [
    {
     "data": {
      "text/html": [
       "<div>\n",
       "<table border=\"1\" class=\"dataframe\">\n",
       "  <thead>\n",
       "    <tr style=\"text-align: right;\">\n",
       "      <th></th>\n",
       "      <th>TGTG.DE</th>\n",
       "      <th>TGTG.DE.1</th>\n",
       "    </tr>\n",
       "  </thead>\n",
       "  <tbody>\n",
       "    <tr>\n",
       "      <th>0</th>\n",
       "      <td>Trade Open</td>\n",
       "      <td>Trade Close</td>\n",
       "    </tr>\n",
       "    <tr>\n",
       "      <th>1</th>\n",
       "      <td>0.64</td>\n",
       "      <td>0.646</td>\n",
       "    </tr>\n",
       "    <tr>\n",
       "      <th>2</th>\n",
       "      <td>0.63</td>\n",
       "      <td>0.68</td>\n",
       "    </tr>\n",
       "    <tr>\n",
       "      <th>3</th>\n",
       "      <td>0.68</td>\n",
       "      <td>0.696</td>\n",
       "    </tr>\n",
       "    <tr>\n",
       "      <th>4</th>\n",
       "      <td>0.686</td>\n",
       "      <td>0.7</td>\n",
       "    </tr>\n",
       "    <tr>\n",
       "      <th>5</th>\n",
       "      <td>0.702</td>\n",
       "      <td>0.7</td>\n",
       "    </tr>\n",
       "    <tr>\n",
       "      <th>6</th>\n",
       "      <td>NaN</td>\n",
       "      <td>NaN</td>\n",
       "    </tr>\n",
       "    <tr>\n",
       "      <th>7</th>\n",
       "      <td>0.718</td>\n",
       "      <td>0.718</td>\n",
       "    </tr>\n",
       "    <tr>\n",
       "      <th>8</th>\n",
       "      <td>0.796</td>\n",
       "      <td>0.728</td>\n",
       "    </tr>\n",
       "    <tr>\n",
       "      <th>9</th>\n",
       "      <td>0.8</td>\n",
       "      <td>0.752</td>\n",
       "    </tr>\n",
       "    <tr>\n",
       "      <th>10</th>\n",
       "      <td>0.81</td>\n",
       "      <td>0.772</td>\n",
       "    </tr>\n",
       "    <tr>\n",
       "      <th>11</th>\n",
       "      <td>0.78</td>\n",
       "      <td>0.785</td>\n",
       "    </tr>\n",
       "    <tr>\n",
       "      <th>12</th>\n",
       "      <td>0.78</td>\n",
       "      <td>0.781</td>\n",
       "    </tr>\n",
       "    <tr>\n",
       "      <th>13</th>\n",
       "      <td>0.8</td>\n",
       "      <td>0.789</td>\n",
       "    </tr>\n",
       "    <tr>\n",
       "      <th>14</th>\n",
       "      <td>0.796</td>\n",
       "      <td>0.796</td>\n",
       "    </tr>\n",
       "    <tr>\n",
       "      <th>15</th>\n",
       "      <td>0.8</td>\n",
       "      <td>0.785</td>\n",
       "    </tr>\n",
       "    <tr>\n",
       "      <th>16</th>\n",
       "      <td>0.801</td>\n",
       "      <td>0.814</td>\n",
       "    </tr>\n",
       "    <tr>\n",
       "      <th>17</th>\n",
       "      <td>0.81</td>\n",
       "      <td>0.81</td>\n",
       "    </tr>\n",
       "    <tr>\n",
       "      <th>18</th>\n",
       "      <td>0.813</td>\n",
       "      <td>0.813</td>\n",
       "    </tr>\n",
       "    <tr>\n",
       "      <th>19</th>\n",
       "      <td>0.819</td>\n",
       "      <td>0.819</td>\n",
       "    </tr>\n",
       "    <tr>\n",
       "      <th>20</th>\n",
       "      <td>0.812</td>\n",
       "      <td>0.812</td>\n",
       "    </tr>\n",
       "    <tr>\n",
       "      <th>21</th>\n",
       "      <td>0.84</td>\n",
       "      <td>0.816</td>\n",
       "    </tr>\n",
       "    <tr>\n",
       "      <th>22</th>\n",
       "      <td>0.832</td>\n",
       "      <td>0.832</td>\n",
       "    </tr>\n",
       "    <tr>\n",
       "      <th>23</th>\n",
       "      <td>NaN</td>\n",
       "      <td>NaN</td>\n",
       "    </tr>\n",
       "    <tr>\n",
       "      <th>24</th>\n",
       "      <td>0.85</td>\n",
       "      <td>0.85</td>\n",
       "    </tr>\n",
       "    <tr>\n",
       "      <th>25</th>\n",
       "      <td>NaN</td>\n",
       "      <td>NaN</td>\n",
       "    </tr>\n",
       "    <tr>\n",
       "      <th>26</th>\n",
       "      <td>NaN</td>\n",
       "      <td>NaN</td>\n",
       "    </tr>\n",
       "    <tr>\n",
       "      <th>27</th>\n",
       "      <td>0.835</td>\n",
       "      <td>0.85</td>\n",
       "    </tr>\n",
       "    <tr>\n",
       "      <th>28</th>\n",
       "      <td>NaN</td>\n",
       "      <td>NaN</td>\n",
       "    </tr>\n",
       "    <tr>\n",
       "      <th>29</th>\n",
       "      <td>0.868</td>\n",
       "      <td>0.87</td>\n",
       "    </tr>\n",
       "    <tr>\n",
       "      <th>...</th>\n",
       "      <td>...</td>\n",
       "      <td>...</td>\n",
       "    </tr>\n",
       "    <tr>\n",
       "      <th>2749</th>\n",
       "      <td>21.15</td>\n",
       "      <td>21.14</td>\n",
       "    </tr>\n",
       "    <tr>\n",
       "      <th>2750</th>\n",
       "      <td>20.06</td>\n",
       "      <td>21.17</td>\n",
       "    </tr>\n",
       "    <tr>\n",
       "      <th>2751</th>\n",
       "      <td>20.49</td>\n",
       "      <td>20.35</td>\n",
       "    </tr>\n",
       "    <tr>\n",
       "      <th>2752</th>\n",
       "      <td>19.55</td>\n",
       "      <td>20.5</td>\n",
       "    </tr>\n",
       "    <tr>\n",
       "      <th>2753</th>\n",
       "      <td>20.32</td>\n",
       "      <td>20</td>\n",
       "    </tr>\n",
       "    <tr>\n",
       "      <th>2754</th>\n",
       "      <td>20.5</td>\n",
       "      <td>20.47</td>\n",
       "    </tr>\n",
       "    <tr>\n",
       "      <th>2755</th>\n",
       "      <td>20.7</td>\n",
       "      <td>20.54</td>\n",
       "    </tr>\n",
       "    <tr>\n",
       "      <th>2756</th>\n",
       "      <td>20.44</td>\n",
       "      <td>20.48</td>\n",
       "    </tr>\n",
       "    <tr>\n",
       "      <th>2757</th>\n",
       "      <td>20.39</td>\n",
       "      <td>20.47</td>\n",
       "    </tr>\n",
       "    <tr>\n",
       "      <th>2758</th>\n",
       "      <td>20.44</td>\n",
       "      <td>20.69</td>\n",
       "    </tr>\n",
       "    <tr>\n",
       "      <th>2759</th>\n",
       "      <td>20.2</td>\n",
       "      <td>20.4</td>\n",
       "    </tr>\n",
       "    <tr>\n",
       "      <th>2760</th>\n",
       "      <td>20</td>\n",
       "      <td>20</td>\n",
       "    </tr>\n",
       "    <tr>\n",
       "      <th>2761</th>\n",
       "      <td>19.5</td>\n",
       "      <td>19.95</td>\n",
       "    </tr>\n",
       "    <tr>\n",
       "      <th>2762</th>\n",
       "      <td>19.3</td>\n",
       "      <td>19.36</td>\n",
       "    </tr>\n",
       "    <tr>\n",
       "      <th>2763</th>\n",
       "      <td>19.24</td>\n",
       "      <td>19.24</td>\n",
       "    </tr>\n",
       "    <tr>\n",
       "      <th>2764</th>\n",
       "      <td>19.15</td>\n",
       "      <td>19.27</td>\n",
       "    </tr>\n",
       "    <tr>\n",
       "      <th>2765</th>\n",
       "      <td>19.35</td>\n",
       "      <td>19.2</td>\n",
       "    </tr>\n",
       "    <tr>\n",
       "      <th>2766</th>\n",
       "      <td>19.26</td>\n",
       "      <td>19.24</td>\n",
       "    </tr>\n",
       "    <tr>\n",
       "      <th>2767</th>\n",
       "      <td>19.57</td>\n",
       "      <td>19.25</td>\n",
       "    </tr>\n",
       "    <tr>\n",
       "      <th>2768</th>\n",
       "      <td>19.78</td>\n",
       "      <td>19.6</td>\n",
       "    </tr>\n",
       "    <tr>\n",
       "      <th>2769</th>\n",
       "      <td>19.41</td>\n",
       "      <td>19.76</td>\n",
       "    </tr>\n",
       "    <tr>\n",
       "      <th>2770</th>\n",
       "      <td>19</td>\n",
       "      <td>19.5</td>\n",
       "    </tr>\n",
       "    <tr>\n",
       "      <th>2771</th>\n",
       "      <td>18.65</td>\n",
       "      <td>19</td>\n",
       "    </tr>\n",
       "    <tr>\n",
       "      <th>2772</th>\n",
       "      <td>18.8</td>\n",
       "      <td>18.74</td>\n",
       "    </tr>\n",
       "    <tr>\n",
       "      <th>2773</th>\n",
       "      <td>18.1</td>\n",
       "      <td>18.68</td>\n",
       "    </tr>\n",
       "    <tr>\n",
       "      <th>2774</th>\n",
       "      <td>17.87</td>\n",
       "      <td>18.05</td>\n",
       "    </tr>\n",
       "    <tr>\n",
       "      <th>2775</th>\n",
       "      <td>17.64</td>\n",
       "      <td>17.87</td>\n",
       "    </tr>\n",
       "    <tr>\n",
       "      <th>2776</th>\n",
       "      <td>17.34</td>\n",
       "      <td>17.65</td>\n",
       "    </tr>\n",
       "    <tr>\n",
       "      <th>2777</th>\n",
       "      <td>17.22</td>\n",
       "      <td>17.34</td>\n",
       "    </tr>\n",
       "    <tr>\n",
       "      <th>2778</th>\n",
       "      <td>17.01</td>\n",
       "      <td>17.44</td>\n",
       "    </tr>\n",
       "  </tbody>\n",
       "</table>\n",
       "<p>2779 rows × 2 columns</p>\n",
       "</div>"
      ],
      "text/plain": [
       "         TGTG.DE    TGTG.DE.1\n",
       "0     Trade Open  Trade Close\n",
       "1           0.64        0.646\n",
       "2           0.63         0.68\n",
       "3           0.68        0.696\n",
       "4          0.686          0.7\n",
       "5          0.702          0.7\n",
       "6            NaN          NaN\n",
       "7          0.718        0.718\n",
       "8          0.796        0.728\n",
       "9            0.8        0.752\n",
       "10          0.81        0.772\n",
       "11          0.78        0.785\n",
       "12          0.78        0.781\n",
       "13           0.8        0.789\n",
       "14         0.796        0.796\n",
       "15           0.8        0.785\n",
       "16         0.801        0.814\n",
       "17          0.81         0.81\n",
       "18         0.813        0.813\n",
       "19         0.819        0.819\n",
       "20         0.812        0.812\n",
       "21          0.84        0.816\n",
       "22         0.832        0.832\n",
       "23           NaN          NaN\n",
       "24          0.85         0.85\n",
       "25           NaN          NaN\n",
       "26           NaN          NaN\n",
       "27         0.835         0.85\n",
       "28           NaN          NaN\n",
       "29         0.868         0.87\n",
       "...          ...          ...\n",
       "2749       21.15        21.14\n",
       "2750       20.06        21.17\n",
       "2751       20.49        20.35\n",
       "2752       19.55         20.5\n",
       "2753       20.32           20\n",
       "2754        20.5        20.47\n",
       "2755        20.7        20.54\n",
       "2756       20.44        20.48\n",
       "2757       20.39        20.47\n",
       "2758       20.44        20.69\n",
       "2759        20.2         20.4\n",
       "2760          20           20\n",
       "2761        19.5        19.95\n",
       "2762        19.3        19.36\n",
       "2763       19.24        19.24\n",
       "2764       19.15        19.27\n",
       "2765       19.35         19.2\n",
       "2766       19.26        19.24\n",
       "2767       19.57        19.25\n",
       "2768       19.78         19.6\n",
       "2769       19.41        19.76\n",
       "2770          19         19.5\n",
       "2771       18.65           19\n",
       "2772        18.8        18.74\n",
       "2773        18.1        18.68\n",
       "2774       17.87        18.05\n",
       "2775       17.64        17.87\n",
       "2776       17.34        17.65\n",
       "2777       17.22        17.34\n",
       "2778       17.01        17.44\n",
       "\n",
       "[2779 rows x 2 columns]"
      ]
     },
     "execution_count": 7,
     "metadata": {},
     "output_type": "execute_result"
    }
   ],
   "source": [
    "dfTime.ix[:,1:3]"
   ]
  },
  {
   "cell_type": "code",
   "execution_count": 8,
   "metadata": {
    "collapsed": false
   },
   "outputs": [
    {
     "data": {
      "text/plain": [
       "2779"
      ]
     },
     "execution_count": 8,
     "metadata": {},
     "output_type": "execute_result"
    }
   ],
   "source": [
    "\n",
    "\n",
    "numcols = len(dfTime.ix[:, 2::2])\n",
    "numcols"
   ]
  },
  {
   "cell_type": "code",
   "execution_count": 9,
   "metadata": {
    "collapsed": false
   },
   "outputs": [
    {
     "name": "stdout",
     "output_type": "stream",
     "text": [
      "        ID          ISIN  Normalized EBITDA  Normalized EBIT  \\\n",
      "0  TGTG.DE  DE0005118806          2314000.0       -6112000.0   \n",
      "1  UUUG.DE  DE0005167902          4037000.0         909000.0   \n",
      "2  VSCk.DE  DE000A14KL72         -7966000.0       -8969000.0   \n",
      "3  HRPKk.F  DE000A11QW68         21662000.0        9910000.0   \n",
      "4   LUMG.F  DE0006492903           245560.0         243940.0   \n",
      "\n",
      "   Normalized Income Before Taxes  Normalized Income After Taxes  \\\n",
      "0                      -5926000.0                     -6274100.0   \n",
      "1                       -286000.0                      -735000.0   \n",
      "2                      -9242000.0                     -9263100.0   \n",
      "3                       4692000.0                      4072430.0   \n",
      "4                        238940.0                       238940.0   \n",
      "\n",
      "   Total Revenue   Total Debt  Accounts Receivable - Trade, Net  \\\n",
      "0     53535000.0          0.0                        11092000.0   \n",
      "1     50575000.0   28178000.0                         6912000.0   \n",
      "2      3266000.0          0.0                          102000.0   \n",
      "3     25362000.0  181504000.0                         1353000.0   \n",
      "4     12433970.0         80.0                          183850.0   \n",
      "\n",
      "   Accounts Payable         ...           Net Debt - Mean  Total Debt.1  \\\n",
      "0         1071000.0         ...                -2500000.0           0.0   \n",
      "1         3517000.0         ...                       NaN    28178000.0   \n",
      "2          688000.0         ...               -14321330.0           0.0   \n",
      "3         1679000.0         ...               139890000.0   181504000.0   \n",
      "4          201890.0         ...                       NaN          80.0   \n",
      "\n",
      "   Total Current Assets  Total Current Liabilities  Total Liabilities  \\\n",
      "0            32189000.0                  9794000.0         11440000.0   \n",
      "1            23335000.0                 11917000.0         37010000.0   \n",
      "2            22415000.0                  5593000.0          7064000.0   \n",
      "3            31366000.0                 20604000.0        202557000.0   \n",
      "4              685150.0                   555900.0          1366310.0   \n",
      "\n",
      "   Total Equity  Common Stock, Total  Shares Out - Common Stock Primary Issue  \\\n",
      "0    38204000.0           19111000.0                               19111090.0   \n",
      "1    39806000.0           35314000.0                               33130380.0   \n",
      "2    26428000.0           18967000.0                               18966650.0   \n",
      "3    62189000.0           40478000.0                               42358590.0   \n",
      "4      250630.0           10226000.0                                8000000.0   \n",
      "\n",
      "   Cash and Equivalents  Number of Employees  \n",
      "0                4000.0                698.0  \n",
      "1                   NaN                145.0  \n",
      "2            21475000.0                 44.0  \n",
      "3            13073000.0                 17.0  \n",
      "4                   NaN                  0.0  \n",
      "\n",
      "[5 rows x 23 columns]\n"
     ]
    }
   ],
   "source": [
    "print(df.head())"
   ]
  },
  {
   "cell_type": "code",
   "execution_count": 10,
   "metadata": {
    "collapsed": false
   },
   "outputs": [
    {
     "data": {
      "text/plain": [
       "2.0816659994661326"
      ]
     },
     "execution_count": 10,
     "metadata": {},
     "output_type": "execute_result"
    }
   ],
   "source": [
    "np.std([1,3,4,6], ddof=1)"
   ]
  },
  {
   "cell_type": "code",
   "execution_count": 11,
   "metadata": {
    "collapsed": false
   },
   "outputs": [
    {
     "data": {
      "text/plain": [
       "1454934451.541977"
      ]
     },
     "execution_count": 11,
     "metadata": {},
     "output_type": "execute_result"
    }
   ],
   "source": [
    "np.std(df['Normalized Income After Taxes'], ddof=1)"
   ]
  },
  {
   "cell_type": "code",
   "execution_count": null,
   "metadata": {
    "collapsed": true
   },
   "outputs": [],
   "source": []
  }
 ],
 "metadata": {
  "anaconda-cloud": {},
  "kernelspec": {
   "display_name": "Python [conda root]",
   "language": "python",
   "name": "conda-root-py"
  },
  "language_info": {
   "codemirror_mode": {
    "name": "ipython",
    "version": 3
   },
   "file_extension": ".py",
   "mimetype": "text/x-python",
   "name": "python",
   "nbconvert_exporter": "python",
   "pygments_lexer": "ipython3",
   "version": "3.5.2"
  }
 },
 "nbformat": 4,
 "nbformat_minor": 1
}
