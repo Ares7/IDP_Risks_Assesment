{
 "cells": [
  {
   "cell_type": "code",
   "execution_count": 1,
   "metadata": {
    "collapsed": true
   },
   "outputs": [],
   "source": [
    "import pandas as pd\n",
    "import numpy as np\n",
    "from scipy.stats import norm\n",
    "import datetime\n",
    "\n",
    "%config IPCompleter.greedy=True"
   ]
  },
  {
   "cell_type": "code",
   "execution_count": 2,
   "metadata": {
    "collapsed": true
   },
   "outputs": [],
   "source": [
    "xl = pd.ExcelFile('/Users/sergey/Documents/TUM/IDP/prepared_instruments.xlsx')"
   ]
  },
  {
   "cell_type": "code",
   "execution_count": 3,
   "metadata": {
    "collapsed": true
   },
   "outputs": [],
   "source": [
    "dfTMP = xl.parse(\"TS\", skiprows = 0, skip_footer =False)"
   ]
  },
  {
   "cell_type": "code",
   "execution_count": 39,
   "metadata": {
    "collapsed": false
   },
   "outputs": [
    {
     "name": "stdout",
     "output_type": "stream",
     "text": [
      "['TGTG.DE', 'UUUG.DE']\n",
      "Posrf:\n",
      "  TGTG.DE TGTG.DE.1 UUUG.DE UUUG.DE.1\n",
      "2    0.63      0.68   0.641     0.641\n",
      "3    0.68     0.696    0.65      0.66\n",
      "4   0.686       0.7    0.65      0.65\n",
      "5   0.702       0.7     NaN       NaN\n",
      "6     NaN       NaN   0.661     0.656\n",
      "7   0.718     0.718   0.664     0.664\n",
      "8   0.796     0.728    0.65     0.647\n",
      "9     0.8     0.752   0.646     0.645\n",
      "    sum1\n",
      "2  0.050\n",
      "3  0.026\n",
      "4  0.014\n",
      "5 -0.002\n",
      "7  0.000\n",
      "8 -0.071\n",
      "9 -0.049\n",
      "Risk of Loss is: 42.86%\n"
     ]
    }
   ],
   "source": [
    "def absPortf_Risk_of_loss(listofInv, numDays= 2, MoneyVol = 1000, startDt = '2016-11-25', endDt ='2016-11-30' ):\n",
    "    \"\"\"\n",
    "    Measures the percentage of outcomes below a certain totalreturn level, usually 0%. \n",
    "    \"\"\"\n",
    "    \n",
    "    #print(listofInv.head(9))\n",
    "    colListFull  = list(listofInv.columns.values)\n",
    "\n",
    "    #listRisk_99 = []\n",
    "    \n",
    "    startDate = np.datetime64( startDt)\n",
    "    endDate= np.datetime64( endDt)\n",
    "    \n",
    "    ##remove Timestamp, Trade Open, Trade Close\n",
    "    listofInv=pd.DataFrame(listofInv.ix[1:,0:])\n",
    "\n",
    "    listofInv=pd.DataFrame(listofInv)\n",
    "    #listofInv['Date'] = [time.date() for time in listofInv['Date']]\n",
    "\n",
    "    listofInv['Date'] =  pd.to_datetime(listofInv['Date'], format='%Y-%m-%d')\n",
    "    listofInv['Date'] = pd.to_datetime(listofInv['Date'])  \n",
    "\n",
    "    mask = (listofInv['Date'] >= startDate) & (listofInv['Date'] <= endDate)\n",
    "    #print (mask)\n",
    "    listofInv = listofInv.loc[mask]  \n",
    "    #print(listofInv.head(12))\n",
    "    \n",
    "    del colListFull[0]\n",
    "\n",
    "    #drop column from the Data frame\n",
    "    listofInv = listofInv.drop('Date', 1)\n",
    "    \n",
    "    colListPrime  = list(listofInv.columns.values)\n",
    "    colListPrime = colListPrime[::2] \n",
    "    print(colListPrime)\n",
    "    \n",
    "    set1=pd.DataFrame()\n",
    "\n",
    "    colListPrime = list(listofInv.columns.values)\n",
    "\n",
    "    #print(listofInv.head(10))\n",
    "    #print(colListFull)\n",
    "    \n",
    "    '''Test for handling NaNs.\n",
    "    ##listofInv.loc[listofInv['TGTG.DE.1'] == 0.68, 'TGTG.DE.1'] = np.nan\n",
    "        result: if at least one cell of a row contains NaN, then the whole row is discarded.\n",
    "    '''\n",
    "    \n",
    "    print(\"Posrf:\")\n",
    "    \n",
    "    print(listofInv)\n",
    "    \n",
    "    for i in range(0, len(colListFull), 2):\n",
    "        listofInv = listofInv[pd.notnull(listofInv[listofInv.columns[(i)]])]\n",
    "        listofInv = listofInv[pd.notnull(listofInv[listofInv.columns[(i+1)]])]\n",
    "        \n",
    "        set2 =(listofInv[listofInv.columns[i+1]].astype(float)) - (listofInv[listofInv.columns[i]].astype(float))\n",
    "        set1 = pd.concat([set1, set2] , axis=1)\n",
    "        del set2\n",
    "\n",
    "    #set1.columns = [colListPrime]\n",
    "    #print(set1.head())\n",
    "\n",
    "\n",
    "    SumSet = set1.groupby((np.arange(len(set1.columns)) //len(set1.columns)*10 ) + 1, axis=1).sum().add_prefix('sum')\n",
    "    ##SumSet[\"rets\"] = SumSet[\"sum1\"].pct_change()\n",
    "    \n",
    "    SumSet.replace(np.NaN,0 , inplace =True) \n",
    "    SumSet = SumSet.replace([np.inf, -np.inf], 0)\n",
    "    SumSet = SumSet.astype(float)\n",
    "    \n",
    "    \n",
    "    #setPortfVaR = pd.DataFrame()\n",
    "\n",
    "    print(SumSet)\n",
    "    ##print(((SumSet < 0).sum(1)).sum())\n",
    "    \n",
    "    Risk_of_loss = round(((SumSet < 0).sum(1)).sum()/SumSet.shape[0]*100, 2)\n",
    "    print(\"Risk of Loss is: \" + str(Risk_of_loss) + \"%\")\n",
    "    \n",
    "#dfTMP = xl.parse(\"TS\", skiprows = 0, skip_footer =False)\n",
    "##call for 4 Stocks:\n",
    "absPortf_Risk_of_loss(pd.DataFrame(dfTMP.ix[1:,0:5]), 21, 1000, '2016-11-20','2016-11-30' )\n"
   ]
  },
  {
   "cell_type": "code",
   "execution_count": null,
   "metadata": {
    "collapsed": true
   },
   "outputs": [],
   "source": [
    "def ADJUSTED_FOR_RUNNING_FROM_MAIN_absPortf_Risk_of_loss(Inv, numDays= 2, MoneyVol = 1000, startDt = '2016-11-25', endDt ='2016-11-30' ):\n",
    "    \"\"\"\n",
    "    Measures the percentage of outcomes below a certain totalreturn level, usually 0%. \n",
    "    \"\"\"\n",
    "    \n",
    "    #print(listofInv.head(9))\n",
    "    \n",
    "    colListPrime = FormColumns(Inv)\n",
    "    \n",
    "    set1=pd.DataFrame()\n",
    "    #print(colListPrime)\n",
    "    #listStdDev = []\n",
    "\n",
    "    listofInv = FormDataforGivenDates(Inv,startDt,endDt)\n",
    "\n",
    "    \n",
    "    ##drop column from the Data frame\n",
    "    listofInv = listofInv.drop('Date', 1)  \n",
    "    colListFull  = list(listofInv.columns.values)\n",
    "    \n",
    "    print(colListFull)\n",
    "    print(listofInv)\n",
    "    \n",
    "    for i in range(0, len(colListFull), 2):\n",
    "        listofInv = listofInv[pd.notnull(listofInv[listofInv.columns[(i)]])]\n",
    "        listofInv = listofInv[pd.notnull(listofInv[listofInv.columns[(i+1)]])]\n",
    "        \n",
    "        set2 =(listofInv[listofInv.columns[i+1]].astype(float)) - (listofInv[listofInv.columns[i]].astype(float))\n",
    "        set1 = pd.concat([set1, set2] , axis=1)\n",
    "        del set2\n",
    "\n",
    "    #set1.columns = [colListPrime]\n",
    "    #print(set1.head())\n",
    "\n",
    "    SumSet = set1.groupby((np.arange(len(set1.columns)) //len(set1.columns)*10 ) + 1, axis=1).sum().add_prefix('sum')\n",
    "    ##SumSet[\"rets\"] = SumSet[\"sum1\"].pct_change()\n",
    "    \n",
    "    SumSet.replace(np.NaN,0 , inplace =True) \n",
    "    SumSet = SumSet.replace([np.inf, -np.inf], 0)\n",
    "    SumSet = SumSet.astype(float)\n",
    "    \n",
    "    \n",
    "    #setPortfVaR = pd.DataFrame()\n",
    "\n",
    "    print(SumSet)\n",
    "    ##print(((SumSet < 0).sum(1)).sum())\n",
    "    \n",
    "    Risk_of_loss = round(((SumSet < 0).sum(1)).sum()/SumSet.shape[0]*100, 2)\n",
    "    print(\"Risk of Loss is: \" + str(Risk_of_loss) + \"%\")\n",
    "    \n",
    "#dfTMP = xl.parse(\"TS\", skiprows = 0, skip_footer =False)\n",
    "##call for 4 Stocks:\n",
    "ADJUSTED_FOR_RUNNING_FROM_MAIN_absPortf_Risk_of_loss(pd.DataFrame(dfTMP.ix[1:,0:5]), 21, 1000, '2016-11-20','2016-11-30' )\n"
   ]
  }
 ],
 "metadata": {
  "kernelspec": {
   "display_name": "Python [default]",
   "language": "python",
   "name": "python3"
  },
  "language_info": {
   "codemirror_mode": {
    "name": "ipython",
    "version": 3
   },
   "file_extension": ".py",
   "mimetype": "text/x-python",
   "name": "python",
   "nbconvert_exporter": "python",
   "pygments_lexer": "ipython3",
   "version": "3.5.2"
  }
 },
 "nbformat": 4,
 "nbformat_minor": 1
}
