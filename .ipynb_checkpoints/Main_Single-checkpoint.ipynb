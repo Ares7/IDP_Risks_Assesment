{
 "cells": [
  {
   "cell_type": "code",
   "execution_count": 1,
   "metadata": {
    "collapsed": true
   },
   "outputs": [],
   "source": [
    "import pandas as pd\n",
    "import numpy as np\n",
    "from scipy.stats import norm\n",
    "import datetime\n",
    "\n",
    "##%config IPCompleter.greedy=True"
   ]
  },
  {
   "cell_type": "code",
   "execution_count": 2,
   "metadata": {
    "collapsed": true
   },
   "outputs": [],
   "source": [
    "xl = pd.ExcelFile('/Users/sergey/Documents/TUM/IDP/prepared_instruments.xlsx')"
   ]
  },
  {
   "cell_type": "code",
   "execution_count": 3,
   "metadata": {
    "collapsed": false
   },
   "outputs": [
    {
     "name": "stdout",
     "output_type": "stream",
     "text": [
      "                  Date TGTG.DE TGTG.DE.1 UUUG.DE UUUG.DE.1\n",
      "1  2016-12-01 00:00:00    0.64     0.646   0.641      0.64\n",
      "2  2016-11-30 00:00:00    0.63      0.68   0.641     0.641\n",
      "3  2016-11-29 00:00:00    0.68     0.696    0.65      0.66\n",
      "4  2016-11-28 00:00:00   0.686       0.7    0.65      0.65\n"
     ]
    }
   ],
   "source": [
    "dfTMP = xl.parse(\"TS\", skiprows = 0, skip_footer =False)\n",
    "print(dfTMP.ix[1:,0:5].head(4))"
   ]
  },
  {
   "cell_type": "code",
   "execution_count": 193,
   "metadata": {
    "collapsed": false
   },
   "outputs": [
    {
     "data": {
      "text/html": [
       "<div>\n",
       "<table border=\"1\" class=\"dataframe\">\n",
       "  <thead>\n",
       "    <tr style=\"text-align: right;\">\n",
       "      <th></th>\n",
       "      <th>Date</th>\n",
       "      <th>TGTG.DE</th>\n",
       "      <th>TGTG.DE.1</th>\n",
       "      <th>UUUG.DE</th>\n",
       "      <th>UUUG.DE.1</th>\n",
       "    </tr>\n",
       "  </thead>\n",
       "  <tbody>\n",
       "    <tr>\n",
       "      <th>2</th>\n",
       "      <td>2016-11-30</td>\n",
       "      <td>0.63</td>\n",
       "      <td>0.68</td>\n",
       "      <td>0.641</td>\n",
       "      <td>0.641</td>\n",
       "    </tr>\n",
       "    <tr>\n",
       "      <th>3</th>\n",
       "      <td>2016-11-29</td>\n",
       "      <td>0.68</td>\n",
       "      <td>0.696</td>\n",
       "      <td>0.65</td>\n",
       "      <td>0.66</td>\n",
       "    </tr>\n",
       "    <tr>\n",
       "      <th>4</th>\n",
       "      <td>2016-11-28</td>\n",
       "      <td>0.686</td>\n",
       "      <td>0.7</td>\n",
       "      <td>0.65</td>\n",
       "      <td>0.65</td>\n",
       "    </tr>\n",
       "    <tr>\n",
       "      <th>5</th>\n",
       "      <td>2016-11-25</td>\n",
       "      <td>0.702</td>\n",
       "      <td>0.7</td>\n",
       "      <td>NaN</td>\n",
       "      <td>NaN</td>\n",
       "    </tr>\n",
       "    <tr>\n",
       "      <th>6</th>\n",
       "      <td>2016-11-24</td>\n",
       "      <td>NaN</td>\n",
       "      <td>NaN</td>\n",
       "      <td>0.661</td>\n",
       "      <td>0.656</td>\n",
       "    </tr>\n",
       "    <tr>\n",
       "      <th>7</th>\n",
       "      <td>2016-11-23</td>\n",
       "      <td>0.718</td>\n",
       "      <td>0.718</td>\n",
       "      <td>0.664</td>\n",
       "      <td>0.664</td>\n",
       "    </tr>\n",
       "  </tbody>\n",
       "</table>\n",
       "</div>"
      ],
      "text/plain": [
       "        Date TGTG.DE TGTG.DE.1 UUUG.DE UUUG.DE.1\n",
       "2 2016-11-30    0.63      0.68   0.641     0.641\n",
       "3 2016-11-29    0.68     0.696    0.65      0.66\n",
       "4 2016-11-28   0.686       0.7    0.65      0.65\n",
       "5 2016-11-25   0.702       0.7     NaN       NaN\n",
       "6 2016-11-24     NaN       NaN   0.661     0.656\n",
       "7 2016-11-23   0.718     0.718   0.664     0.664"
      ]
     },
     "execution_count": 193,
     "metadata": {},
     "output_type": "execute_result"
    }
   ],
   "source": [
    "def FormDataforGivenDates(listofInv, startDt, endDt):\n",
    "    \n",
    "    #print(listofInv.head(21))\n",
    "    startDate = np.datetime64( startDt)\n",
    "    endDate= np.datetime64( endDt)\n",
    "    \n",
    "    ##remove Timestamp, Trade Open, Trade Close\n",
    "    listofInv=pd.DataFrame(listofInv.ix[1:,0:])\n",
    "\n",
    "\n",
    "    listofInv['Date'] =  pd.to_datetime(listofInv['Date'], format='%Y-%m-%d')\n",
    "    listofInv['Date'] = pd.to_datetime(listofInv['Date'])  \n",
    "\n",
    "    mask = (listofInv['Date'] >= startDate) & (listofInv['Date'] <= endDate)\n",
    "    #print (mask)\n",
    "    listofInv = listofInv.loc[mask]\n",
    "    #print(listofInv.head(12))\n",
    " \n",
    "\n",
    "    return listofInv\n",
    "FormDataforGivenDates(dfTMP.ix[1:,0:5],'2016-11-23','2016-11-30')"
   ]
  },
  {
   "cell_type": "code",
   "execution_count": 7,
   "metadata": {
    "collapsed": false
   },
   "outputs": [],
   "source": [
    "def FormColumns(listofInv):\n",
    "    \n",
    "    colListFull  = list(listofInv.columns.values)    \n",
    "    colListInvestm  = list(listofInv.columns.values)\n",
    "    if 'Date' in colListInvestm:\n",
    "        del colListInvestm[0]\n",
    "    #print(colListFull)\n",
    "    colListPrime = colListInvestm[::2] \n",
    "    #print(colListPrime)\n",
    "    \n",
    "    return colListPrime\n",
    "#FormColumns(dfTMP.ix[1:,1:5])"
   ]
  },
  {
   "cell_type": "code",
   "execution_count": 262,
   "metadata": {
    "collapsed": false
   },
   "outputs": [
    {
     "name": "stdout",
     "output_type": "stream",
     "text": [
      "                    VaR    StdDev  Risk_of_loss\n",
      "InvetmentName                                  \n",
      "TGTG.DE       -0.003250  0.006799         42.86\n",
      "UUUG.DE       -0.021428  0.014500         42.86\n"
     ]
    }
   ],
   "source": [
    "def InitTargetMatrix(param = None):\n",
    "    colListInvestm = list(dfTMP.columns.values)\n",
    "    del colListInvestm[0]\n",
    "    colListPrime = colListInvestm[::2]\n",
    "    #print(colListPrime)\n",
    "    TargetMatrix = pd.DataFrame(index=colListPrime)\n",
    "    TargetMatrix.index.name = 'InvetmentName'\n",
    "    #print(TargetMatrix)\n",
    "    \n",
    "    VaRInvestm = pd.DataFrame(Single_VaR(dfTMP.ix[1:,0:5] , 21, '2016-11-20','2016-11-30' ))\n",
    "    Single_stddev = absSingle_stddev(dfTMP.ix[1:,0:5], startDt = '2016-11-25', endDt ='2016-11-30' )\n",
    "    Single_RiskofLoss = absSingle_Risk_of_Loss(pd.DataFrame(dfTMP.ix[1:,0:5]), 21, 1000, '2016-11-20','2016-11-30' )\n",
    "    \n",
    "    TargetMatrix = pd.concat([TargetMatrix, VaRInvestm], axis=1, join_axes=[VaRInvestm.index])\n",
    "    TargetMatrix = pd.concat([TargetMatrix, Single_stddev], axis=1, join_axes=[Single_stddev.index])\n",
    "    TargetMatrix = pd.concat([TargetMatrix, Single_RiskofLoss], axis=1, join_axes=[Single_RiskofLoss.index])\n",
    "    \n",
    "\n",
    "    #print(VaRInvestm.head(20))\n",
    "    return TargetMatrix\n",
    "print(InitTargetMatrix())"
   ]
  },
  {
   "cell_type": "code",
   "execution_count": 261,
   "metadata": {
    "collapsed": false
   },
   "outputs": [
    {
     "data": {
      "text/html": [
       "<div>\n",
       "<table border=\"1\" class=\"dataframe\">\n",
       "  <thead>\n",
       "    <tr style=\"text-align: right;\">\n",
       "      <th></th>\n",
       "      <th>Risk_of_loss</th>\n",
       "    </tr>\n",
       "    <tr>\n",
       "      <th>InvetmentName</th>\n",
       "      <th></th>\n",
       "    </tr>\n",
       "  </thead>\n",
       "  <tbody>\n",
       "    <tr>\n",
       "      <th>TGTG.DE</th>\n",
       "      <td>42.86</td>\n",
       "    </tr>\n",
       "    <tr>\n",
       "      <th>UUUG.DE</th>\n",
       "      <td>42.86</td>\n",
       "    </tr>\n",
       "  </tbody>\n",
       "</table>\n",
       "</div>"
      ],
      "text/plain": [
       "               Risk_of_loss\n",
       "InvetmentName              \n",
       "TGTG.DE               42.86\n",
       "UUUG.DE               42.86"
      ]
     },
     "execution_count": 261,
     "metadata": {},
     "output_type": "execute_result"
    }
   ],
   "source": [
    "def absSingle_Risk_of_Loss(Inv, numDays= 2, MoneyVol = 1000, startDt = '2016-11-25', endDt ='2016-11-30' ):\n",
    "    \"\"\"\n",
    "    Measures the percentage of outcomes below a certain totalreturn level, usually 0%. \n",
    "    \"\"\"\n",
    "    \n",
    "    #print(listofInv.head(9))\n",
    "    \n",
    "    colListPrime = FormColumns(Inv)\n",
    "    \n",
    "    set1=pd.DataFrame()\n",
    "    #print(colListPrime)\n",
    "    listRiskofLoss = []\n",
    "\n",
    "    listofInv = FormDataforGivenDates(Inv,startDt,endDt)\n",
    "\n",
    "    \n",
    "    ##drop column from the Data frame\n",
    "    listofInv = listofInv.drop('Date', 1)  \n",
    "    colListFull  = list(listofInv.columns.values)\n",
    "    \n",
    "    #print(colListFull)\n",
    "    #print(listofInv)\n",
    "    \n",
    "    \n",
    "    for i in range(0, len(colListFull), 2):\n",
    "        #listofInv = listofInv[pd.notnull(listofInv[listofInv.columns[(i)]])]\n",
    "        #listofInv = listofInv[pd.notnull(listofInv[listofInv.columns[(i+1)]])]\n",
    "        \n",
    "        #print(listofInv)\n",
    "        set2=pd.DataFrame()\n",
    "        set2 = pd.concat([set2, (listofInv[listofInv.columns[i+1]].astype(float)) - (listofInv[listofInv.columns[i]].astype(float))] , axis=1)\n",
    "        #set2 =(listofInv[listofInv.columns[i+1]].astype(float)) - (listofInv[listofInv.columns[i]].astype(float))\n",
    "        set1 = pd.concat([set1, set2] , axis=1)\n",
    "        \n",
    "        \n",
    "        numRows = set2.dropna().shape[0]\n",
    "        #print(set2.head(19))\n",
    "        Risk_of_loss = round( 100*((set2 < 0).sum(1)).sum()/numRows , 2)\n",
    "        listRiskofLoss.append(Risk_of_loss)\n",
    "        del set2\n",
    "        del Risk_of_loss\n",
    "\n",
    "    set1.columns = [colListPrime]\n",
    "    #print(set1.head(19))\n",
    "    #print(listRiskofLoss)\n",
    "    #print(set1[set1.columns[1]].shape[0])\n",
    "    \n",
    "    setRisk_of_loss = pd.DataFrame(listRiskofLoss)\n",
    "    setRisk_of_loss = setRisk_of_loss.T\n",
    "    setRisk_of_loss.columns = [colListPrime]\n",
    "    setRisk_of_loss = setRisk_of_loss.T\n",
    "    \n",
    "    \n",
    "    setRisk_of_loss.columns = ['Risk_of_loss'] \n",
    "    setRisk_of_loss.index.name = 'InvetmentName'\n",
    "    #print(setRisk_of_loss.index.name)\n",
    "    '''\n",
    "    calculate # of times Value in SumSet was below 0, nad divide it by total number of rows in the set.\n",
    "    '''\n",
    "    #Risk_of_loss = round( ((SumSet < 0).sum(1)).sum()/SumSet.shape[0]*100 , 2)\n",
    "    #print(\"Risk of Loss is: \" + str(Risk_of_loss) + \"%\")\n",
    "    \n",
    "    return setRisk_of_loss\n",
    "##call for 4 Stocks:\n",
    "absSingle_Risk_of_Loss(pd.DataFrame(dfTMP.ix[1:,0:5]), 21, 1000, '2016-11-20','2016-11-30' )\n"
   ]
  },
  {
   "cell_type": "code",
   "execution_count": 203,
   "metadata": {
    "collapsed": false,
    "scrolled": false
   },
   "outputs": [
    {
     "data": {
      "text/html": [
       "<div>\n",
       "<table border=\"1\" class=\"dataframe\">\n",
       "  <thead>\n",
       "    <tr style=\"text-align: right;\">\n",
       "      <th></th>\n",
       "      <th>StdDev</th>\n",
       "    </tr>\n",
       "    <tr>\n",
       "      <th>InvetmentName</th>\n",
       "      <th></th>\n",
       "    </tr>\n",
       "  </thead>\n",
       "  <tbody>\n",
       "    <tr>\n",
       "      <th>TGTG.DE</th>\n",
       "      <td>0.008542</td>\n",
       "    </tr>\n",
       "    <tr>\n",
       "      <th>UUUG.DE</th>\n",
       "      <td>0.012784</td>\n",
       "    </tr>\n",
       "  </tbody>\n",
       "</table>\n",
       "</div>"
      ],
      "text/plain": [
       "                 StdDev\n",
       "InvetmentName          \n",
       "TGTG.DE        0.008542\n",
       "UUUG.DE        0.012784"
      ]
     },
     "execution_count": 203,
     "metadata": {},
     "output_type": "execute_result"
    }
   ],
   "source": [
    "def absSingle_stddev(Inv, numDays= 2, startDt = '2016-11-25', endDt ='2016-11-30' ):  \n",
    "    '''\n",
    "    Calculating VaR of a single stock/bond one by one for a given Time Period.\n",
    "    '''\n",
    "\n",
    "    colListPrime = FormColumns(Inv)\n",
    "    #print(colListPrime)\n",
    "    listStdDev = []\n",
    "\n",
    "    listofInv = FormDataforGivenDates(Inv,startDt,endDt)\n",
    "    \n",
    "    #print(listofInv.head(10))\n",
    "    \n",
    "    listofInv = listofInv.set_index('Date',drop = True).diff()\n",
    "    '''\n",
    "    diff() shifts 1st row to the position of the 2nd, now we have to reset the index to turn it back.\n",
    "    '''\n",
    "    listofInv = listofInv.reset_index()\n",
    "    \n",
    "    #remove 1st row containing NaNs (there is no diff)\n",
    "    listofInv.drop(listofInv.index[[0]], inplace = True)\n",
    "\n",
    "    \n",
    "    listofInv = listofInv[listofInv.columns[::2]]\n",
    "    \n",
    "    ##drop column from the Data frame\n",
    "    listofInv = listofInv.drop('Date', 1)  \n",
    "    #listofInv = ColumnNicer(listofInv)\n",
    "    listofInv.columns = colListPrime\n",
    "    #print(listofInv)\n",
    "    \n",
    "    \n",
    "    for i in range(0, len(colListPrime), 1):\n",
    "\n",
    "        # drop a row if all values in the row are nan\n",
    "        listofInv = listofInv.dropna(how='all')\n",
    "\n",
    "        Inv_stddev = np.std(listofInv[str(listofInv.columns[i])])\n",
    "\n",
    "        listStdDev.append(Inv_stddev) \n",
    "    \n",
    "    listStdDev=pd.DataFrame(listStdDev).T\n",
    "    listStdDev.columns= colListPrime\n",
    "    listStdDev = listStdDev.T\n",
    "    \n",
    "\n",
    "    listStdDev.columns = ['StdDev'] \n",
    "    listStdDev.index.name = 'InvetmentName'\n",
    "    \n",
    "    #listofInv.columns = colListPrime\n",
    "    #print(setVaR)\n",
    "   \n",
    "\n",
    "    return listStdDev\n",
    "\n",
    "    '''\n",
    "    Passing dataframe that contains columns: Date, \n",
    "    names of stocks(2nd column of same stock contains the closing price).\n",
    "    '''\n",
    "    #print(\"Stocks Standart Deviations are: \" + str(Inv_stddev))\n",
    "   \n",
    "absSingle_stddev(dfTMP.ix[1:,0:5] , 21, '2016-11-20','2016-11-30' )"
   ]
  },
  {
   "cell_type": "code",
   "execution_count": 202,
   "metadata": {
    "collapsed": false
   },
   "outputs": [
    {
     "data": {
      "text/html": [
       "<div>\n",
       "<table border=\"1\" class=\"dataframe\">\n",
       "  <thead>\n",
       "    <tr style=\"text-align: right;\">\n",
       "      <th></th>\n",
       "      <th>VaR</th>\n",
       "    </tr>\n",
       "    <tr>\n",
       "      <th>InvetmentName</th>\n",
       "      <th></th>\n",
       "    </tr>\n",
       "  </thead>\n",
       "  <tbody>\n",
       "    <tr>\n",
       "      <th>TGTG.DE</th>\n",
       "      <td>-0.003250</td>\n",
       "    </tr>\n",
       "    <tr>\n",
       "      <th>UUUG.DE</th>\n",
       "      <td>-0.021428</td>\n",
       "    </tr>\n",
       "  </tbody>\n",
       "</table>\n",
       "</div>"
      ],
      "text/plain": [
       "                    VaR\n",
       "InvetmentName          \n",
       "TGTG.DE       -0.003250\n",
       "UUUG.DE       -0.021428"
      ]
     },
     "execution_count": 202,
     "metadata": {},
     "output_type": "execute_result"
    }
   ],
   "source": [
    "def Single_VaR(Inv, numDays= 2, startDt = '2016-11-25', endDt ='2016-11-30' ):\n",
    "    '''\n",
    "    Calculating VaR of a single stock/bond one by one for a given Time Period.\n",
    "    '''\n",
    "\n",
    "    colListPrime = FormColumns(Inv)\n",
    "    #print(colListPrime)\n",
    "    listRisk_95 = []\n",
    "\n",
    "    listofInv = FormDataforGivenDates(Inv,startDt,endDt)\n",
    "  \n",
    "    \n",
    "    #print(listofInv.head(21))\n",
    "    \n",
    "    listofInv = listofInv.set_index('Date',drop = True).diff()\n",
    "    '''\n",
    "    diff() shifts 1st row to the position of the 2nd, now we have to reset the index to turn it back.\n",
    "    '''\n",
    "    listofInv = listofInv.reset_index()\n",
    "    #print(listofInv.describe())\n",
    "    #remove 1st row containing NaNs (there is no diff)\n",
    "    listofInv.drop(listofInv.index[[0]], inplace = True)\n",
    "\n",
    "    \n",
    "    listofInv = listofInv[listofInv.columns[::2]]\n",
    "    \n",
    "    ##drop column from the Data frame\n",
    "    listofInv = listofInv.drop('Date', 1)  \n",
    "    #listofInv = ColumnNicer(listofInv)\n",
    "    listofInv.columns = colListPrime\n",
    "    #print(listofInv)\n",
    "    \n",
    "    \n",
    "    for i in range(0, len(colListPrime), 1):\n",
    "\n",
    "        # drop a row if all values in the row are nan\n",
    "        listofInv = listofInv.dropna(how='all')\n",
    "\n",
    "        mu = np.mean(listofInv[str(listofInv.columns[i])])\n",
    "        sigma = np.std(listofInv[str(listofInv.columns[i])])\n",
    "\n",
    "        valueAtRisk_95 = norm.ppf(0.05, mu, sigma)\n",
    "\n",
    "        listRisk_95.append(valueAtRisk_95) \n",
    "    \n",
    "    setVaR=pd.DataFrame(listRisk_95).T\n",
    "    setVaR.columns= colListPrime\n",
    "    setVaR = setVaR.T\n",
    "    \n",
    "\n",
    "    setVaR.columns = ['VaR'] \n",
    "    setVaR.index.name = 'InvetmentName'\n",
    "    \n",
    "    #listofInv.columns = colListPrime\n",
    "    #print(setVaR)\n",
    "   \n",
    "\n",
    "    return setVaR\n",
    "'''\n",
    "Passing dataframe that contains columns: Date, \n",
    "names of stocks(2nd column of same stock contains the closing price).\n",
    "'''\n",
    "Single_VaR(dfTMP.ix[1:,0:5] , 21, '2016-11-20','2016-11-30' )\n",
    "\n",
    "\n",
    "## one-way 5% quantile, critical value is 1.64\n",
    "#VaR_21 = returns.std() * np.sqrt(21) * 1.645"
   ]
  },
  {
   "cell_type": "code",
   "execution_count": null,
   "metadata": {
    "collapsed": true
   },
   "outputs": [],
   "source": []
  }
 ],
 "metadata": {
  "anaconda-cloud": {},
  "kernelspec": {
   "display_name": "Python [default]",
   "language": "python",
   "name": "python3"
  },
  "language_info": {
   "codemirror_mode": {
    "name": "ipython",
    "version": 3
   },
   "file_extension": ".py",
   "mimetype": "text/x-python",
   "name": "python",
   "nbconvert_exporter": "python",
   "pygments_lexer": "ipython3",
   "version": "3.5.2"
  }
 },
 "nbformat": 4,
 "nbformat_minor": 1
}
