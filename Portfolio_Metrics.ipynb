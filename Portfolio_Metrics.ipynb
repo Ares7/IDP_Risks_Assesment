{
 "cells": [
  {
   "cell_type": "code",
   "execution_count": 235,
   "metadata": {
    "collapsed": false
   },
   "outputs": [],
   "source": [
    "import pandas as pd\n",
    "import numpy as np\n",
    "from scipy.stats import norm\n",
    "import datetime\n",
    "\n",
    "%config IPCompleter.greedy=True\n"
   ]
  },
  {
   "cell_type": "code",
   "execution_count": 2,
   "metadata": {
    "collapsed": true
   },
   "outputs": [],
   "source": [
    "xl = pd.ExcelFile('/Users/sergey/Documents/TUM/IDP/prepared_instruments.xlsx')\n",
    "\n"
   ]
  },
  {
   "cell_type": "code",
   "execution_count": 30,
   "metadata": {
    "collapsed": false
   },
   "outputs": [
    {
     "name": "stdout",
     "output_type": "stream",
     "text": [
      "                  Date     TGTG.DE    TGTG.DE.1     UUUG.DE    UUUG.DE.1  \\\n",
      "0            Timestamp  Trade Open  Trade Close  Trade Open  Trade Close   \n",
      "1  2016-12-01 00:00:00        0.64        0.646       0.641         0.64   \n",
      "\n",
      "      VSCk.DE    VSCk.DE.1     HRPKk.F    HRPKk.F.1      LUMG.F     ...       \\\n",
      "0  Trade Open  Trade Close  Trade Open  Trade Close  Trade Open     ...        \n",
      "1       2.532        2.532       2.276        2.276       0.016     ...        \n",
      "\n",
      "        YB1.F      YB1.F.1     RTVGn.F    RTVGn.F.1     ZALG.DE    ZALG.DE.1  \\\n",
      "0  Trade Open  Trade Close  Trade Open  Trade Close  Trade Open  Trade Close   \n",
      "1        0.02         0.02        1.22         1.22       34.99       34.275   \n",
      "\n",
      "      ZEFG.DE    ZEFG.DE.1     ZO1G.DE    ZO1G.DE.1  \n",
      "0  Trade Open  Trade Close  Trade Open  Trade Close  \n",
      "1         1.6          1.6         121        119.1  \n",
      "\n",
      "[2 rows x 853 columns]\n"
     ]
    }
   ],
   "source": [
    "##df = xl.parse(\"FY0\")\n",
    "#dfTime = xl.parse(\"TS\")\n",
    "dfTime = xl.parse(\"TS\", skiprows = 0, skip_footer =False)\n",
    "dfTime.replace(np.NaN,0 , inplace =True)\n",
    "df = dfTime\n",
    "\n",
    "print(dfTime.head(2))"
   ]
  },
  {
   "cell_type": "code",
   "execution_count": 31,
   "metadata": {
    "collapsed": false
   },
   "outputs": [],
   "source": [
    "df = df.drop(df.index[[0]])#dropping 2nd row that contains \"open\", \"close\"\n",
    "df.drop('Date', axis=1, inplace=True)\n"
   ]
  },
  {
   "cell_type": "code",
   "execution_count": 32,
   "metadata": {
    "collapsed": false
   },
   "outputs": [],
   "source": [
    "df_mean = df\n",
    "df_mean= df_mean.astype(float)"
   ]
  },
  {
   "cell_type": "code",
   "execution_count": 34,
   "metadata": {
    "collapsed": false
   },
   "outputs": [],
   "source": [
    "\n",
    "df_mean = df_mean.groupby((np.arange(len(df_mean.columns)) // 2) + 1, axis=1).mean().add_prefix('s')\n",
    "\n"
   ]
  },
  {
   "cell_type": "code",
   "execution_count": 35,
   "metadata": {
    "collapsed": false
   },
   "outputs": [],
   "source": [
    "#print(df.columns[2])\n",
    "collist = list(df.columns.values)\n",
    "collist = collist[::2]\n",
    "df_mean.columns = [collist]"
   ]
  },
  {
   "cell_type": "code",
   "execution_count": 269,
   "metadata": {
    "collapsed": true
   },
   "outputs": [],
   "source": [
    "#print(xl.sheet_names)\n",
    "#print(dfTime.head())"
   ]
  },
  {
   "cell_type": "code",
   "execution_count": 270,
   "metadata": {
    "collapsed": false
   },
   "outputs": [
    {
     "data": {
      "text/plain": [
       "'for i in range(0,5,2):\\n\\n        dfAvg =df.ix[1:2,i:(i+2)].T.sum()\\n        df_sum=pd.DataFrame(dfAvg)\\n\\n        df_sum.columns = [df.columns[i]]\\n        print (df_sum)\\n        dat1 = dat1.join(df_sum )\\n\\n        del dfAvg\\n'"
      ]
     },
     "execution_count": 270,
     "metadata": {},
     "output_type": "execute_result"
    }
   ],
   "source": [
    "'''for i in range(0,5,2):\n",
    "\n",
    "        dfAvg =df.ix[1:2,i:(i+2)].T.sum()\n",
    "        df_sum=pd.DataFrame(dfAvg)\n",
    "\n",
    "        df_sum.columns = [df.columns[i]]\n",
    "        print (df_sum)\n",
    "        dat1 = dat1.join(df_sum )\n",
    "\n",
    "        del dfAvg\n",
    "'''"
   ]
  },
  {
   "cell_type": "code",
   "execution_count": 271,
   "metadata": {
    "collapsed": false
   },
   "outputs": [],
   "source": [
    "#df_mean.ix[0:,:].std()\n",
    "#k =df_mean.ix[0:,:].std()\n",
    "#print( k[66] )"
   ]
  },
  {
   "cell_type": "code",
   "execution_count": 36,
   "metadata": {
    "collapsed": false
   },
   "outputs": [
    {
     "name": "stdout",
     "output_type": "stream",
     "text": [
      "426\n",
      "426\n"
     ]
    }
   ],
   "source": [
    "print(len(df_mean.corr()))\n",
    "print(len(df_mean.corr().columns))"
   ]
  },
  {
   "cell_type": "code",
   "execution_count": 9,
   "metadata": {
    "collapsed": false
   },
   "outputs": [],
   "source": [
    "lCorr = df_mean.corr().ix[0:,:1]\n",
    "#print(lCorr)"
   ]
  },
  {
   "cell_type": "code",
   "execution_count": 37,
   "metadata": {
    "collapsed": false
   },
   "outputs": [
    {
     "name": "stdout",
     "output_type": "stream",
     "text": [
      "Portfolio Standart Deviation is: 28.8166315257\n"
     ]
    }
   ],
   "source": [
    "def absPortf_stddev(listofInv):\n",
    " \n",
    "    #A_rank=[2,4,4,4,5,5,7,9]\n",
    "    #arr = np.array([A_rank])\n",
    "    #print(np.mean(arr))\n",
    "    #print(np.std(arr))\n",
    "    ##print(np.std(arr, axis=0))\n",
    "    #print(np.correlate([0.686,0.702], [0.646,0.68]))\n",
    "    #print(len(collist))\n",
    "    weight = 1/len(collist)\n",
    "    lStdDev = df_mean.ix[0:,:].std()\n",
    "    lCorr = df_mean.corr().ix[0:,:1]\n",
    "    ## can now access: lStdDev[66]\n",
    "    \n",
    "    #PART 1:\n",
    "    sum1 = 0\n",
    "    for i in range(1, len(collist), 1):\n",
    "        sum1 = sum1 + weight * lStdDev[i]\n",
    "    #print(sum1)\n",
    "    \n",
    "    #PART 2:\n",
    "    sum2 = 0\n",
    "    for i in range(1, len(collist), 1):\n",
    "        #print(\"Current i= \" + str(i))\n",
    "        for j in range(1, len(collist), 1):\n",
    "            #print(\"Current j= \" + str(j))\n",
    "            sum2 = sum2 + weight * weight * lStdDev[i] * lStdDev[j]\n",
    "    #print(sum2)\n",
    "    \n",
    "    Portf_stddev = (sum1+2*sum2) ** (0.5)\n",
    "    print(\"Portfolio Standart Deviation is: \" + str(Portf_stddev))\n",
    "   \n",
    "    \n",
    "    ##print(dfTime.head())\n",
    "    #avgVal = (dfTime.ix[1:3,1:2] + dfTime.ix[1:3,2:3])/2\n",
    "    #print(lStdDev)\n",
    "    \n",
    "absPortf_stddev(None)"
   ]
  },
  {
   "cell_type": "code",
   "execution_count": 77,
   "metadata": {
    "collapsed": false,
    "scrolled": false
   },
   "outputs": [],
   "source": [
    "#dfTime"
   ]
  },
  {
   "cell_type": "code",
   "execution_count": 37,
   "metadata": {
    "collapsed": false
   },
   "outputs": [],
   "source": [
    "#print(dfTime.ix[1:,0:])\n"
   ]
  },
  {
   "cell_type": "code",
   "execution_count": 163,
   "metadata": {
    "collapsed": false
   },
   "outputs": [
    {
     "name": "stdout",
     "output_type": "stream",
     "text": [
      "Index(['Date', 'TGTG.DE', 'TGTG.DE.1', 'UUUG.DE', 'UUUG.DE.1', 'VSCk.DE',\n",
      "       'VSCk.DE.1', 'HRPKk.F', 'HRPKk.F.1', 'LUMG.F',\n",
      "       ...\n",
      "       'YB1.F.1', 'RTVGn.F', 'RTVGn.F.1', 'ZALG.DE', 'ZALG.DE.1', 'ZEFG.DE',\n",
      "       'ZEFG.DE.1', 'ZO1G.DE', 'ZO1G.DE.1', 'diff'],\n",
      "      dtype='object', length=854)\n"
     ]
    }
   ],
   "source": [
    "print (dfTime.columns)"
   ]
  },
  {
   "cell_type": "raw",
   "metadata": {},
   "source": [
    "print (collistPrime[::2])"
   ]
  },
  {
   "cell_type": "code",
   "execution_count": 62,
   "metadata": {
    "collapsed": true
   },
   "outputs": [],
   "source": [
    "##dfTMP = xl.parse(\"TS\", skiprows = 0, skip_footer =False)\n"
   ]
  },
  {
   "cell_type": "code",
   "execution_count": 73,
   "metadata": {
    "collapsed": false
   },
   "outputs": [],
   "source": [
    "colListPrime = list(dfTime.columns.values)\n",
    "\n",
    "del colListPrime[0]\n",
    "colListPrime = colListPrime[::2]\n",
    "colListFull  = list(dfTime.columns.values)\n",
    "del colListFull[0]\n",
    "#print(colListFull)\n"
   ]
  },
  {
   "cell_type": "code",
   "execution_count": 240,
   "metadata": {
    "collapsed": false
   },
   "outputs": [
    {
     "name": "stdout",
     "output_type": "stream",
     "text": [
      "[67  1 33 38 34 55 27  5 52 53 88 21 76 61 11 77 96 51 40 56 99]\n"
     ]
    }
   ],
   "source": [
    "#pd.DataFrame(dfTMP.ix[1:,2:3])\n",
    "print(np.random.choice(np.arange(100), size=21, replace=False))"
   ]
  },
  {
   "cell_type": "code",
   "execution_count": 28,
   "metadata": {
    "collapsed": false
   },
   "outputs": [
    {
     "name": "stdout",
     "output_type": "stream",
     "text": [
      "[43.123064538015797, 62.122707935803419]\n"
     ]
    }
   ],
   "source": [
    "def absPortf_VC_VaR(listofInv = dfTMP, numDays= 2, MoneyVol = 1000, startDt = '2016-11-25', endDt ='2016-11-30' ):\n",
    "    \"\"\"\n",
    "    Variance-Covariance Method of computing VaR of specific \n",
    "    Stocks(separately, not as a Portfolio) over time frame.\n",
    "    \"\"\"\n",
    "    #print(listofInv.head(9))\n",
    "    colListFull  = list(listofInv.columns.values)\n",
    "    colListPrime = list(listofInv.columns.values)    \n",
    "    listRisk_95 = []\n",
    "    listRisk_99 = []\n",
    "    listRiskFinal = []\n",
    "    ##startDate = pd.to_datetime('22/11/2016' )\n",
    "    startDate = np.datetime64( startDt)\n",
    "    endDate= np.datetime64( endDt)\n",
    "    \n",
    "    ##remove Timestamp, Trade Open, Trade Close\n",
    "    listofInv=pd.DataFrame(listofInv.ix[1:,0:])\n",
    "\n",
    "    listofInv=pd.DataFrame(listofInv)\n",
    "    #listofInv['Date'] = [time.date() for time in listofInv['Date']]\n",
    "\n",
    "    listofInv['Date'] =  pd.to_datetime(listofInv['Date'], format='%Y-%m-%d')\n",
    "    listofInv['Date'] = pd.to_datetime(listofInv['Date'])  \n",
    "\n",
    "    mask = (listofInv['Date'] >= startDate) & (listofInv['Date'] <= endDate)\n",
    "    #print (mask)\n",
    "    listofInv = listofInv.loc[mask]   \n",
    "    \n",
    "    del colListFull[0]\n",
    "    del colListPrime[0]\n",
    "    #drop column from the Data frame\n",
    "    listofInv = listofInv.drop('Date', 1)\n",
    "    colListPrime = colListPrime[::2]\n",
    "    \n",
    "    #print(listofInv.head(10))\n",
    "    #print(len(colListFull))\n",
    "    \n",
    "    for i in range(1, len(colListFull), 2):##changed to 1 from 2\n",
    "        #print(\"i= \" + str(i))\n",
    "        #print(\"NOW col\" + str(listofInv.ix[1:,(i):(i+1)].head(8)))\n",
    "        \n",
    "        tmp=pd.DataFrame(listofInv.ix[1:,(i):(i+1)])\n",
    "        tmp = tmp[pd.notnull(tmp[tmp.columns[(0)]])]\n",
    "\n",
    "\n",
    "        tmp[\"rets\" + str(tmp.columns[0])] = tmp[tmp.columns[0]].pct_change()\n",
    "        \n",
    "        mu = np.mean(tmp[\"rets\" + str(tmp.columns[0])])\n",
    "        sigma = np.std(tmp[\"rets\" + str(tmp.columns[0])])\n",
    "    \n",
    "        valueAtRisk_95 = MoneyVol - MoneyVol*(norm.ppf(0.05, mu, sigma) + 1)     \n",
    "        valueAtRisk_99 = MoneyVol - MoneyVol*(norm.ppf(0.01, mu, sigma) + 1) \n",
    "        \n",
    "        listRisk_95.append(valueAtRisk_95)       \n",
    "        listRisk_99.append(valueAtRisk_99)\n",
    "  \n",
    "        del tmp    \n",
    "  \n",
    "    setRisk_95 = pd.DataFrame(listRisk_95).T\n",
    "    setRisk_99 = pd.DataFrame(listRisk_99).T\n",
    "    \n",
    "    setRisk_95.columns = [colListPrime]\n",
    "    setRisk_99.columns = [colListPrime]\n",
    "    \n",
    "    setRisk_95 = setRisk_95 **2\n",
    "    setRisk_99 = setRisk_99 **2\n",
    "    #print(setRisk_95)\n",
    "    \n",
    "    setRisk_95['FINAL_95'] = setRisk_95.groupby((np.arange(len(setRisk_95.columns)) //len(setRisk_95.columns)*10 ) + 1, axis=1).sum().add_prefix('sum')\n",
    "    setRisk_95['FINAL_95'] = setRisk_95['FINAL_95'] **0.5\n",
    "    \n",
    "    setRisk_99['FINAL_99'] = setRisk_99.groupby((np.arange(len(setRisk_99.columns)) //len(setRisk_99.columns)*10 ) + 1, axis=1).sum().add_prefix('sum')\n",
    "    setRisk_99['FINAL_99'] = setRisk_99['FINAL_99'] **0.5\n",
    "    \n",
    "    listRiskFinal.append(valueAtRisk_95)\n",
    "    listRiskFinal.append(valueAtRisk_99) \n",
    "    \n",
    "    print(listRiskFinal)\n",
    "    #print(setRisk_99)\n",
    "\n",
    "dfTMP = xl.parse(\"TS\", skiprows = 0, skip_footer =False)\n",
    "##call for 4 Stocks:\n",
    "absPortf_VC_VaR(pd.DataFrame(dfTMP.ix[1:,0:3]), 21, 1000, '2015-11-20','2016-11-30' )"
   ]
  },
  {
   "cell_type": "code",
   "execution_count": 308,
   "metadata": {
    "collapsed": false
   },
   "outputs": [
    {
     "name": "stdout",
     "output_type": "stream",
     "text": [
      "-0.2646428794333778\n",
      "33.29952749353409\n",
      "Portfolio Historical Value at Risk with 95% confidence is: 55037.4914529\n",
      "Portfolio Historical Value at Risk with 99% confidence is: 77730.9278706\n"
     ]
    }
   ],
   "source": [
    "def absPortf_INITIAL_HistVaR(listofInv =dfTime, numDays= 2, MoneyVol =1000, startDt = '22/11/2016', endDt ='01/12/2016' ):\n",
    " \n",
    "    \"\"\"\n",
    "    Variance-Covariance calculation of daily Value-at-Risk\n",
    "    using confidence level c, with mean of returns mu\n",
    "    and standard deviation of returns sigma, on a portfolio\n",
    "    of value P.\n",
    "    \"\"\"\n",
    "    ##startDate = pd.to_datetime('22/11/2016' )\n",
    "    startDate = np.datetime64( datetime.datetime.strptime(startDt, '%d/%m/%Y'))\n",
    "    endDate= np.datetime64( datetime.datetime.strptime(endDt, '%d/%m/%Y'))\n",
    "    \n",
    "    ##remove Timestamp, Trade Open, Trade Close\n",
    "    listofInv=pd.DataFrame(listofInv.ix[1:,0:])\n",
    "    \n",
    "    listofInv['Date'] =  pd.to_datetime(listofInv['Date'])\n",
    "    listofInv=pd.DataFrame(listofInv)\n",
    "    listofInv[(listofInv.Date >= startDate) & (listofInv.Date <= endDate )]\n",
    "    \n",
    "    \n",
    "    set1=pd.DataFrame()\n",
    "\n",
    "    colListPrime = list(dfTime.columns.values)\n",
    "    del colListPrime[0]\n",
    "    colListPrime = colListPrime[::2]\n",
    "\n",
    "    for i in range(1, len(colListFull), 2):\n",
    "        set2 =(listofInv[listofInv.columns[i+1]].astype(float)) - (listofInv[listofInv.columns[i]].astype(float))\n",
    "        set1 = pd.concat([set1, set2] , axis=1)\n",
    "        del set2\n",
    "\n",
    "    set1.columns = [colListPrime]\n",
    "    #print(set1.head())\n",
    "\n",
    "\n",
    "    SumSet = set1.groupby((np.arange(len(set1.columns)) //len(set1.columns)*10 ) + 1, axis=1).sum().add_prefix('sum')\n",
    "    SumSet[\"rets\"] = SumSet[\"sum1\"].pct_change()\n",
    "    \n",
    "    SumSet.replace(np.NaN,0 , inplace =True) \n",
    "    SumSet = SumSet.replace([np.inf, -np.inf], 0)\n",
    "    SumSet = SumSet.astype(float)\n",
    "\n",
    "    \n",
    "    mu = np.mean(SumSet[\"rets\"])\n",
    "    sigma = np.std(SumSet[\"rets\"])\n",
    "\n",
    "    print(mu)\n",
    "    print(sigma)\n",
    "    #print \"Value-at-Risk: $%0.2f\" % var\n",
    "    \n",
    "    valueAtRisk_95 = MoneyVol - MoneyVol*(norm.ppf(0.05, mu, sigma) + 1)\n",
    "    valueAtRisk_99 = MoneyVol - MoneyVol*(norm.ppf(0.01, mu, sigma) + 1)\n",
    "\n",
    "    \n",
    "       \n",
    "    #Portf_stddev = (sum1+2*sum2) ** (0.5)\n",
    "    print(\"Portfolio Historical Value at Risk with 95% confidence is: \" + str(valueAtRisk_95))\n",
    "    print(\"Portfolio Historical Value at Risk with 99% confidence is: \" + str(valueAtRisk_99))\n",
    "    \n",
    "    #print(lStdDev)\n",
    "    \n",
    "absPortf_INITIAL_HistVaR(dfTime, 21, 1000, '22/11/2016','24/11/2016' )"
   ]
  },
  {
   "cell_type": "code",
   "execution_count": 8,
   "metadata": {
    "collapsed": false
   },
   "outputs": [
    {
     "data": {
      "text/plain": [
       "2779"
      ]
     },
     "execution_count": 8,
     "metadata": {},
     "output_type": "execute_result"
    }
   ],
   "source": [
    "numcols = len(dfTime.ix[:, 2::2])\n",
    "numcols"
   ]
  },
  {
   "cell_type": "code",
   "execution_count": 47,
   "metadata": {
    "collapsed": false
   },
   "outputs": [],
   "source": [
    "#print(df.head())"
   ]
  },
  {
   "cell_type": "code",
   "execution_count": 10,
   "metadata": {
    "collapsed": false
   },
   "outputs": [
    {
     "data": {
      "text/plain": [
       "2.0816659994661326"
      ]
     },
     "execution_count": 10,
     "metadata": {},
     "output_type": "execute_result"
    }
   ],
   "source": [
    "np.std([1,3,4,6], ddof=1)"
   ]
  },
  {
   "cell_type": "code",
   "execution_count": 11,
   "metadata": {
    "collapsed": false
   },
   "outputs": [
    {
     "data": {
      "text/plain": [
       "1454934451.541977"
      ]
     },
     "execution_count": 11,
     "metadata": {},
     "output_type": "execute_result"
    }
   ],
   "source": [
    "np.std(df['Normalized Income After Taxes'], ddof=1)"
   ]
  },
  {
   "cell_type": "code",
   "execution_count": 22,
   "metadata": {
    "collapsed": true
   },
   "outputs": [],
   "source": [
    "lister = ['mmds', 'kmkd', 'algs', 'idp']"
   ]
  },
  {
   "cell_type": "code",
   "execution_count": 27,
   "metadata": {
    "collapsed": false
   },
   "outputs": [
    {
     "name": "stdout",
     "output_type": "stream",
     "text": [
      "['algs', 'finm', 'idp', 'kmkd', 'mmds']\n"
     ]
    }
   ],
   "source": [
    "print (lister)"
   ]
  },
  {
   "cell_type": "code",
   "execution_count": 24,
   "metadata": {
    "collapsed": true
   },
   "outputs": [],
   "source": [
    "lister.insert(2, 'finm')"
   ]
  },
  {
   "cell_type": "code",
   "execution_count": 26,
   "metadata": {
    "collapsed": true
   },
   "outputs": [],
   "source": [
    "lister.sort()"
   ]
  },
  {
   "cell_type": "code",
   "execution_count": 28,
   "metadata": {
    "collapsed": true
   },
   "outputs": [],
   "source": [
    "fun = ['swm', 'film', 'music']"
   ]
  },
  {
   "cell_type": "code",
   "execution_count": 29,
   "metadata": {
    "collapsed": false
   },
   "outputs": [
    {
     "name": "stdout",
     "output_type": "stream",
     "text": [
      "['swm', 'film', 'music', 'algs', 'finm', 'idp', 'kmkd', 'mmds']\n"
     ]
    }
   ],
   "source": [
    "act = fun + lister\n",
    "print(act)"
   ]
  },
  {
   "cell_type": "code",
   "execution_count": 32,
   "metadata": {
    "collapsed": false
   },
   "outputs": [
    {
     "name": "stdout",
     "output_type": "stream",
     "text": [
      "[[['swm', 'film', 'music']], [['algs', 'finm', 'idp', 'kmkd', 'mmds']]]\n"
     ]
    }
   ],
   "source": [
    "act2 = [[fun], [lister]]\n",
    "print(act2)"
   ]
  },
  {
   "cell_type": "code",
   "execution_count": null,
   "metadata": {
    "collapsed": true
   },
   "outputs": [],
   "source": []
  }
 ],
 "metadata": {
  "anaconda-cloud": {},
  "kernelspec": {
   "display_name": "Python [conda root]",
   "language": "python",
   "name": "conda-root-py"
  },
  "language_info": {
   "codemirror_mode": {
    "name": "ipython",
    "version": 3
   },
   "file_extension": ".py",
   "mimetype": "text/x-python",
   "name": "python",
   "nbconvert_exporter": "python",
   "pygments_lexer": "ipython3",
   "version": "3.5.2"
  }
 },
 "nbformat": 4,
 "nbformat_minor": 1
}
